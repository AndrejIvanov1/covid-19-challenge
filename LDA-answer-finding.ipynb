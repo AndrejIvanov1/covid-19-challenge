{
 "cells": [
  {
   "cell_type": "markdown",
   "metadata": {},
   "source": [
    "## Question answering with LDA\n",
    "In this notebook, we attempt to use the trained [LDA topics model](./LDA.ipynb) to find information for the tasks. More specifically, for each task:\n",
    "\n",
    "1) We define a set of keywords which define the task and treat the task a document consisting of these words.\n",
    "\n",
    "2) Calculate the topic distribution of the \"document\" of the task.\n",
    "\n",
    "3) Find the k abstracts with the most similar topic distributions to the task topic distribution."
   ]
  },
  {
   "cell_type": "code",
   "execution_count": 41,
   "metadata": {},
   "outputs": [],
   "source": [
    "import os\n",
    "import json\n",
    "from time import time\n",
    "from collections import Counter\n",
    "\n",
    "%matplotlib inline\n",
    "\n",
    "import pickle \n",
    "import numpy as np\n",
    "import pandas as pd\n",
    "import matplotlib.pyplot as plt\n",
    "\n",
    "from sklearn.decomposition import LatentDirichletAllocation\n",
    "from sklearn.feature_extraction.text import CountVectorizer\n",
    "from sklearn.metrics import pairwise_distances\n",
    "from scipy.spatial.distance import jensenshannon"
   ]
  },
  {
   "cell_type": "markdown",
   "metadata": {},
   "source": [
    "### Load LDA model and papers data"
   ]
  },
  {
   "cell_type": "code",
   "execution_count": 42,
   "metadata": {},
   "outputs": [
    {
     "data": {
      "text/plain": [
       "(33375, 10)"
      ]
     },
     "execution_count": 42,
     "metadata": {},
     "output_type": "execute_result"
    }
   ],
   "source": [
    "print(\"Loading LDA model...\")\n",
    "lda_dir = os.path.join('data', 'lda_10_topics')\n",
    "with open(os.path.join(lda_dir, 'model.pkl'), 'rb') as f:\n",
    "    lda = pickle.load(f)\n",
    "with open(os.path.join(lda_dir, 'vectorizer.pkl'), 'rb') as f:\n",
    "    vectorizer = pickle.load(f)\n",
    "with open(os.path.join(lda_dir, 'count_data.pkl'), 'rb') as f:\n",
    "    count_data = pickle.load(f)\n",
    "\n",
    "print(\"Loading all paper data...\")\n",
    "with open('data/preprocessed_text.json', 'r') as f:\n",
    "    json_data = json.load(f)\n",
    "    \n",
    "paper_ids = list(json_data.keys())\n",
    "index_to_paperid_map = {ind: paper_ids[ind] for ind in range(len(paper_ids))}\n",
    "\n",
    "paper_topic_dist = lda.transform(count_data) # topic distribution of each paper\n",
    "\n",
    "assert(len(paper_ids) == paper_topic_dist.shape[0])\n",
    "paper_topic_dist.shape"
   ]
  },
  {
   "cell_type": "code",
   "execution_count": 51,
   "metadata": {},
   "outputs": [],
   "source": [
    "def top_k_similar(paper_topic_dist: np.ndarray, query_topic_dist: np.ndarray, \n",
    "                  metric='euclidean', k=10, return_distances=False) -> list:\n",
    "    \"\"\"\n",
    "        Input:\n",
    "            paper_topic_dist - the LDA topic distribution of each paper\n",
    "            query_topic_dist - the LDA topic distribution of the query\n",
    "        Returns:\n",
    "            Indicies of the papers closest in topic distribution to the query\n",
    "    \"\"\"\n",
    "    assert(paper_topic_dist.ndim == 2)\n",
    "    assert(paper_topic_dist.shape[1] == query_topic_dist.size)\n",
    "    \n",
    "    distances = pairwise_distances(paper_topic_dist, query_topic_dist.reshape(1, -1))\n",
    "    distances = distances.flatten()\n",
    "    \n",
    "    assert(distances.shape[0] == paper_topic_dist.shape[0])\n",
    "    \n",
    "    indexed_distances = [(i, distances[i]) for i in range(distances.shape[0])]\n",
    "    sorted_indexed_distances = sorted(indexed_distances, key=lambda p: p[1])\n",
    "    ind, d = zip(*sorted_indexed_distances[:k])\n",
    "    \n",
    "    if return_distances:\n",
    "        return ind, d\n",
    "    else:\n",
    "        return ind"
   ]
  },
  {
   "cell_type": "markdown",
   "metadata": {},
   "source": [
    "### Task 1\n",
    "#### What is known about transmission, incubation, and environmental stability? What do we know about natural history, transmission, and diagnostics for the virus? What have we learned about infection prevention and control?\n",
    "* Range of incubation periods for the disease in humans (and how this varies across age and health status) and how long individuals are contagious, even after recovery.\n",
    "* Prevalence of asymptomatic shedding and transmission (e.g., particularly children)\n",
    "* Seasonality of transmission\n",
    "* Physical science of the coronavirus (e.g., charge distribution, adhesion to hydrophilic/phobic surfaces, environmental survival to inform decontamination efforts for affected areas and provide information about viral shedding).\n",
    "* Persistence and stability on a multitude of substrates and sources (e.g., nasal discharge, sputum, urine, fecal matter, blood).\n",
    "* Disease models, including animal models for infection, disease and transmission\n",
    "* Effectiveness of movement control strategies to prevent secondary transmission in health care and community settings"
   ]
  },
  {
   "cell_type": "code",
   "execution_count": 28,
   "metadata": {},
   "outputs": [
    {
     "data": {
      "text/plain": [
       "array([0.14472785, 0.04632768, 0.21557333, 0.0307841 , 0.01620475,\n",
       "       0.00092609, 0.0347647 , 0.0557862 , 0.40437845, 0.05052684])"
      ]
     },
     "execution_count": 28,
     "metadata": {},
     "output_type": "execute_result"
    }
   ],
   "source": [
    "task1_questions = [\n",
    "    \"Range of incubation periods for the disease in humans and how this varies across age and health status and how long individuals are contagious, even after recovery.\",\n",
    "    \"Prevalence of asymptomatic shedding and transmission particularly children\", \n",
    "    \"Seasonality season of transmission\",\n",
    "    \"Physical science of the coronavirus charge distribution, adhesion to hydrophilic phobic surfaces, environmental survival to inform decontamination efforts for affected areas and provide information about viral shedding\",\n",
    "    \"Persistence and stability on a multitude of substrates and sources nasal discharge sputum  urine  fecal matter  blood\",\n",
    "    \"Disease models including animal models for infection disease and transmission\",\n",
    "    \"Effectiveness of movement control strategies to prevent secondary transmission in health care healthcare and community settings\"]\n",
    "\n",
    "task1_document = '. '.join(task1_questions)\n",
    "task1_counts = vectorizer.transform([task1_document])[0]\n",
    "task1_topic_dist = lda.transform(task1_counts.reshape(1, -1))[0]\n",
    "\n",
    "assert(task1_topic_dist.sum() == 1)\n",
    "task1_topic_dist"
   ]
  },
  {
   "cell_type": "code",
   "execution_count": 64,
   "metadata": {},
   "outputs": [],
   "source": [
    "def display_closest_papers(indices: list, distances: list):\n",
    "    for ind, d in zip(indices, distances):\n",
    "        print(\"------------------------------------------------\")\n",
    "        print(d)\n",
    "        paper_id = index_to_paperid_map[ind]\n",
    "        abstract = json_data[paper_id]['abstract']\n",
    "        title = json_data[paper_id]['title']\n",
    "        print(\"Title: \", title)\n",
    "        print(\"Abstract: \", abstract)"
   ]
  },
  {
   "cell_type": "code",
   "execution_count": 65,
   "metadata": {
    "scrolled": true
   },
   "outputs": [
    {
     "name": "stdout",
     "output_type": "stream",
     "text": [
      "------------------------------------------------\n",
      "0.06884586410941963\n",
      "Title:  Minimising prescribing errors in the ICU DJ Melia, S Saha Queen' s Hospital, Romford, UK Critical Care\n",
      "Abstract:  aimed audit prescribing practice busy 14-bedd general icu develop standardised practices tools improve safety prescribing errors occur commonly uk hospital admissions costing extra bed days per admission costing national health service estimated £1 billion per annum majority mistakes avoidable methods audited daily infusion charts patients three separate spot checks week assessed aspects prescriptions make legal valid accordance national guidance new procedures introduced included standardised prescription sticker common preprinted infusion prescriptions noradrenaline propofol forth education using new prescription stickers month later audit process repeated assessed prescriptions fi rst round intervention demonstrating improvement safe prescribing prescriptions initially fulfi lled best practice criteria improving afterwards also reduced number infusions running without prescription versus see figures conclusion audit supports need standardised prescribing practices within critical care especially dealing potentially harmful vasoactive/sedative drugs small cost-eff ective intervention £20 6,200 stickers improved prescribing accuracy thus patient safety intensive care p2 results mock thefts successfully accomplished six occasions 4-week period occasion limpet photographed 'thief recorded date time access therefore event real theft would possible quickly easily indentify culprit conclusion cds missing extremely stressful staff involved access cds may feel unfairly scrutinised potential false accusation exists investigating theft cds costly usually involves pharmacists managers police issue resolved potential suspects usually suspended work leading disruptions patient care utility limpet modifying staff behaviour reducing number occasions duration time open drug cupboards left unattended previously demonstrated providing facility determine exactly accessed cd cupboard time initial study shown benefi ts limpet tool detecting theft therefore installation limpet mitigates diffi culties investigating cd theft likely prove eff ective deterrent reference limpet drug cabinet alarm technology safer drug stewardship abstract poster presentation\n",
      "------------------------------------------------\n",
      "0.09991996649168486\n",
      "Title:  Members of the editorial board\n",
      "Abstract:  decision making medicine informed subtle mixture factors education experience local protocols gut feeling avoiding litigation principle audit one influence practice also reflecting back personal performance measured standardised averages formal guidance mitchell colleagues highlight challenges herein analysis computed tomography acute presentations epilepsy develop findings recent national audit uk selected cohorts patients identified many one five patients known epilepsy scans following presentation emergency department many reading involved acute medicine presentations present population level analysis 3-year period identify patient factors associated rate scanning potential influence management algorithms practice discussed elegantly theme developing local policy using national datasuch hospital episode statistics hes -is developed paper soong et al frailty common condition potentially significant health impact among older adults date known whether stratifying degrees frailty help plan care result improved outcomes retrospective observational study authors report predictive ability routinely coded 'frailty syndromes predict long length stay mortality 1-year sample patients age frailty relevance generalists given previous finding group majority hospital admission patients least one frailty syndromes clinical medicine proudly journal royal college physicians rcp delighted showcase topics interest rcp one need nhs-based tobacco addiction services highlighted rcp report hiding plain sight treating tobacco dependency nhs called new model care providing 'opt-out specialist services treat condition evison colleagues manchester report cure project first uk service modelled ottawa model smoking cessation feature model secondary care clinicians frontline delivery treatment especial importance since nhs 10-year plan commits funding treatment think national act local role physician rcp tobacco addiction hospitals cure project provides potential framework national roll services delighted present impact study first months service another national indeed global health crisis -much acute -is ongoing outbreak novel coronavirus disease covid-19 rcp journals able respond nimble fashion update evolving outbreak clinical manifestations priorities immediate future alex lake one journal 's associate editors provided excellent overview highlighting principles physicians consider rapidly evolving scenario latest advice page remains essential resource www.gov.uk/government/ collections/wuhan-novel-coronavirus ever alongside reviews original submissions regular cme section month renal medicine curated outstanding demitting nephrology associate editor mike almond well insight-provoking clinical cases lessons month feature another popular opinion pieces -this time training clinical examination hope find plenty content enjoy share ■ references mitchell jw kallis c dixon pa grainger r marson ag computed tomography patients epileptic seizures admitted acutely hospital population level analysis routinely collected healthcare data clin\n",
      "------------------------------------------------\n",
      "0.10722969261873189\n",
      "Title:  Private collection: high correlation of sample collection and patient admission date in clinical microbiological testing complicates sharing of phylodynamic metadata\n",
      "Abstract:  infectious pathogens known rapid evolutionary rates new mutations arising days weeks ability rapidly recover whole genome sequences analyze spread evolution pathogens using genetic information pathogen collection dates lead interest real-time tracking infectious transmission outbreaks however level temporal resolution afforded analyses may conflict definitions constitutes protected health information phi privacy requirements de-identification publication public sharing research data metadata united states dates locations associated patient care provide greater resolution year first three digits zip code generally considered patient identifiers admission discharge dates specifically named identifiers department health human services guidance understand degree one impute admission dates specimen collection dates examined sample collection dates patient admission dates associated 270,000 unique microbiological results university washington laboratory medicine department across positive microbiological tests sample collection date exactly matched patient admission date tests collection dates admission dates identical emergency department outpatient testing time respectively tests collected within day patient admission date samples female patients significantly likely collected closer admission date male patients show phi-associated dates admission date confidently imputed deposited collection date suggest publicly depositing microbiological collection dates greater resolution year may meet routine safe harbor-based requirements patient de-identification recommend use expert determination determine phi given study and/or direct patient consent clinical laboratories phylodynamic practitioners desire make data available\n",
      "------------------------------------------------\n",
      "0.12543796080288078\n",
      "Title:  Vaccine testing for emerging infections: the case for individual randomisation HHS Public Access\n",
      "Abstract:  ebola outbreak guinea liberia sierra leone many opposed use individually randomised controlled trials test candidate ebola vaccines raging fatal disease explained unethical relegate study participants control arms zika future emerging infections similar opposition may hinder urgent vaccine research best address questions article lays ethical case individually randomised control testing vaccines many emerging infections including lethal infections lowincome countries even point trial controls receive countermeasures tested individual randomisation feasible-and often be-it tends save lives alternative designs would emerging infections individual randomisation also tends improve care access experimental vaccine prospects participants relative opportunities absent trial less alternative designs would obtains even placebo control without equipoise-requiring would undermine individual randomisation alternative designs opponents proffered arguments expound four often-neglected factors benefits non-participants benefits participants trial including post-trial access study intervention participants prospects randomisation arms near-inevitable disparity arms randomised controlled trial height recent ebola outbreak west africa debate emerged test efficacy candidate ebola treatments vaccinations investigators randomise individual participants receive either relevant countermeasure control substance\n",
      "------------------------------------------------\n",
      "0.1265728214627891\n",
      "Title:  Congenital Malaria in China\n",
      "Abstract:  background congenital malaria infants directly infected malaria parasites mother prior birth potentially life-threatening condition occurs relatively low rates malariaendemic regions recognized serious problem plasmodium falciparum-endemic sub-saharan africa recent data suggests common previously believed regions malaria transmission high neonates may protected disease caused congenital malaria transfer maternal antibodies parasite however low p. vivax-endemic regions immunity vivax malaria low thus likelihood congenital vivax malaria poses significant threat newborn health malaria previously major parasitic disease china congenital malaria case reports chinese offer valuable information understanding risks posed congenital malaria neonatal health literature documenting congenital malaria cases china written chinese therefore easily accessible global malaria research community undertaken extensive review chinese literature subject reviewed congenital malaria cases three major searchable chinese journal databases concentrating data following extensive screening total cases congenital malaria identified cases distributed mainly eastern central southern regions china well low-lying region southwest china dominant species p. vivax reflecting malaria parasite species distribution china leading clinical presentation fever clinical presentations anaemia jaundice paleness diarrhoea vomiting general weakness exception two cases patients cured antimalarial drugs chloroquine quinine artemether artesunate symptoms congenital malaria vary significantly cases clear early diagnosis difficult suggest active surveillance might necessary neonates born mothers history malaria\n"
     ]
    }
   ],
   "source": [
    "indices, distances = top_k_similar(paper_topic_dist, task1_topic_dist, \n",
    "                                   return_distances=True, k=5, metric=jensenshannon)\n",
    "display_closest_papers(indices, distances)"
   ]
  }
 ],
 "metadata": {
  "kernelspec": {
   "display_name": "Python 3",
   "language": "python",
   "name": "python3"
  },
  "language_info": {
   "codemirror_mode": {
    "name": "ipython",
    "version": 3
   },
   "file_extension": ".py",
   "mimetype": "text/x-python",
   "name": "python",
   "nbconvert_exporter": "python",
   "pygments_lexer": "ipython3",
   "version": "3.8.1"
  }
 },
 "nbformat": 4,
 "nbformat_minor": 4
}
