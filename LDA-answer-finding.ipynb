{
 "cells": [
  {
   "cell_type": "markdown",
   "metadata": {},
   "source": [
    "## Question answering with LDA\n",
    "In this notebook, we attempt to use the trained [LDA topics model](./LDA.ipynb) to find information for the tasks. More specifically, for each task:\n",
    "\n",
    "1) We define a set of keywords which define the task and treat the task a document consisting of these words.\n",
    "\n",
    "2) Calculate the topic distribution of the \"document\" of the task.\n",
    "\n",
    "3) Find the k abstracts with the most similar topic distributions to the task topic distribution."
   ]
  },
  {
   "cell_type": "code",
   "execution_count": 1,
   "metadata": {},
   "outputs": [],
   "source": [
    "import os\n",
    "import json\n",
    "from time import time\n",
    "from collections import Counter\n",
    "\n",
    "%matplotlib inline\n",
    "\n",
    "import pickle \n",
    "import numpy as np\n",
    "import pandas as pd\n",
    "import matplotlib.pyplot as plt\n",
    "\n",
    "from sklearn.decomposition import LatentDirichletAllocation\n",
    "from sklearn.feature_extraction.text import CountVectorizer\n",
    "from sklearn.metrics import pairwise_distances\n",
    "from scipy.spatial.distance import jensenshannon"
   ]
  },
  {
   "cell_type": "markdown",
   "metadata": {},
   "source": [
    "### Load LDA model and papers data"
   ]
  },
  {
   "cell_type": "code",
   "execution_count": 2,
   "metadata": {},
   "outputs": [
    {
     "name": "stdout",
     "output_type": "stream",
     "text": [
      "Loading LDA model...\n",
      "Loading all paper data...\n"
     ]
    },
    {
     "data": {
      "text/plain": [
       "(33375, 10)"
      ]
     },
     "execution_count": 2,
     "metadata": {},
     "output_type": "execute_result"
    }
   ],
   "source": [
    "print(\"Loading LDA model...\")\n",
    "lda_dir = os.path.join('data', 'lda_10_topics')\n",
    "with open(os.path.join(lda_dir, 'model.pkl'), 'rb') as f:\n",
    "    lda = pickle.load(f)\n",
    "with open(os.path.join(lda_dir, 'vectorizer.pkl'), 'rb') as f:\n",
    "    vectorizer = pickle.load(f)\n",
    "with open(os.path.join(lda_dir, 'count_data.pkl'), 'rb') as f:\n",
    "    count_data = pickle.load(f)\n",
    "\n",
    "print(\"Loading all paper data...\")\n",
    "with open('data/all_text.json', 'r') as f:\n",
    "    json_data = json.load(f)\n",
    "    \n",
    "paper_ids = list(json_data.keys())\n",
    "index_to_paperid_map = {ind: paper_ids[ind] for ind in range(len(paper_ids))}\n",
    "\n",
    "paper_topic_dist = lda.transform(count_data) # topic distribution of each paper\n",
    "\n",
    "assert(len(paper_ids) == paper_topic_dist.shape[0])\n",
    "paper_topic_dist.shape"
   ]
  },
  {
   "cell_type": "code",
   "execution_count": 3,
   "metadata": {},
   "outputs": [],
   "source": [
    "def top_k_similar(paper_topic_dist: np.ndarray, query_topic_dist: np.ndarray, \n",
    "                  metric='euclidean', k=10, return_distances=False) -> list:\n",
    "    \"\"\"\n",
    "        Input:\n",
    "            paper_topic_dist - the LDA topic distribution of each paper\n",
    "            query_topic_dist - the LDA topic distribution of the query\n",
    "        Returns:\n",
    "            Indicies of the papers closest in topic distribution to the query\n",
    "    \"\"\"\n",
    "    assert(paper_topic_dist.ndim == 2)\n",
    "    assert(paper_topic_dist.shape[1] == query_topic_dist.size)\n",
    "    \n",
    "    distances = pairwise_distances(paper_topic_dist, query_topic_dist.reshape(1, -1))\n",
    "    distances = distances.flatten()\n",
    "    \n",
    "    assert(distances.shape[0] == paper_topic_dist.shape[0])\n",
    "    \n",
    "    indexed_distances = [(i, distances[i]) for i in range(distances.shape[0])]\n",
    "    sorted_indexed_distances = sorted(indexed_distances, key=lambda p: p[1])\n",
    "    ind, d = zip(*sorted_indexed_distances[:k])\n",
    "    \n",
    "    if return_distances:\n",
    "        return ind, d\n",
    "    else:\n",
    "        return ind"
   ]
  },
  {
   "cell_type": "markdown",
   "metadata": {},
   "source": [
    "### Task 1\n",
    "#### What is known about transmission, incubation, and environmental stability? What do we know about natural history, transmission, and diagnostics for the virus? What have we learned about infection prevention and control?\n",
    "* Range of incubation periods for the disease in humans (and how this varies across age and health status) and how long individuals are contagious, even after recovery.\n",
    "* Prevalence of asymptomatic shedding and transmission (e.g., particularly children)\n",
    "* Seasonality of transmission\n",
    "* Physical science of the coronavirus (e.g., charge distribution, adhesion to hydrophilic/phobic surfaces, environmental survival to inform decontamination efforts for affected areas and provide information about viral shedding).\n",
    "* Persistence and stability on a multitude of substrates and sources (e.g., nasal discharge, sputum, urine, fecal matter, blood).\n",
    "* Disease models, including animal models for infection, disease and transmission\n",
    "* Effectiveness of movement control strategies to prevent secondary transmission in health care and community settings"
   ]
  },
  {
   "cell_type": "code",
   "execution_count": 4,
   "metadata": {},
   "outputs": [
    {
     "data": {
      "text/plain": [
       "array([0.14472785, 0.04632768, 0.21557333, 0.0307841 , 0.01620475,\n",
       "       0.00092609, 0.0347647 , 0.0557862 , 0.40437845, 0.05052684])"
      ]
     },
     "execution_count": 4,
     "metadata": {},
     "output_type": "execute_result"
    }
   ],
   "source": [
    "task1_questions = [\n",
    "    \"Range of incubation periods for the disease in humans and how this varies across age and health status and how long individuals are contagious, even after recovery.\",\n",
    "    \"Prevalence of asymptomatic shedding and transmission particularly children\", \n",
    "    \"Seasonality season of transmission\",\n",
    "    \"Physical science of the coronavirus charge distribution, adhesion to hydrophilic phobic surfaces, environmental survival to inform decontamination efforts for affected areas and provide information about viral shedding\",\n",
    "    \"Persistence and stability on a multitude of substrates and sources nasal discharge sputum  urine  fecal matter  blood\",\n",
    "    \"Disease models including animal models for infection disease and transmission\",\n",
    "    \"Effectiveness of movement control strategies to prevent secondary transmission in health care healthcare and community settings\"]\n",
    "\n",
    "task1_document = '. '.join(task1_questions)\n",
    "task1_counts = vectorizer.transform([task1_document])[0]\n",
    "task1_topic_dist = lda.transform(task1_counts.reshape(1, -1))[0]\n",
    "\n",
    "assert(task1_topic_dist.sum() == 1)\n",
    "task1_topic_dist"
   ]
  },
  {
   "cell_type": "code",
   "execution_count": 5,
   "metadata": {},
   "outputs": [],
   "source": [
    "def display_closest_papers(indices: list, distances: list):\n",
    "    for ind, d in zip(indices, distances):\n",
    "        print(\"------------------------------------------------\")\n",
    "        print(d)\n",
    "        paper_id = index_to_paperid_map[ind]\n",
    "        abstract = json_data[paper_id]['abstract']\n",
    "        title = json_data[paper_id]['title']\n",
    "        print(\"Title: \", title)\n",
    "        print(\"Abstract: \", abstract)"
   ]
  },
  {
   "cell_type": "code",
   "execution_count": 6,
   "metadata": {
    "scrolled": true
   },
   "outputs": [
    {
     "name": "stdout",
     "output_type": "stream",
     "text": [
      "------------------------------------------------\n",
      "0.06884586410941963\n",
      "Title:  Minimising prescribing errors in the ICU DJ Melia, S Saha Queen' s Hospital, Romford, UK Critical Care\n",
      "Abstract:  We aimed to audit the prescribing practice on a busy 14-bedd general ICU, and develop standardised practices and tools to improve safety. Prescribing errors occur as commonly as in 10% of UK hospital admissions, costing 8.5 extra bed days per admission, and costing the National Health Service an estimated £1 billion per annum [1]. The majority of these mistakes are avoidable [2]. Methods We audited the daily infusion charts of all patients in three separate spot checks, over 1 week. We assessed all aspects of prescriptions that make them legal and valid, in accordance with national guidance [3]. New procedures were introduced, which included a standardised prescription sticker, with common, preprinted, infusion prescriptions on (noradrenaline, propofol, and so forth), and education on using the new prescription stickers. A month later the audit process was repeated. We assessed 129 prescriptions in the fi rst round, and 111 after intervention, demonstrating a 70% improvement in safe prescribing. Only 24% of prescriptions initially fulfi lled best practice criteria, improving to 94% afterwards. We also reduced the number of infusions running without prescription, 7 (6%) versus 24 (19%). See Figures 1 and 2 . Conclusion Our audit supports the need for standardised prescribing practices within critical care, especially when dealing with potentially harmful vasoactive/sedative drugs. With a small, cost-eff ective intervention (£20 for 6,200 stickers), we improved prescribing accuracy, and thus patient safety in intensive care. P2 Results Mock thefts were successfully accomplished on six occasions over a 4-week period. On each occasion the Limpet photographed the 'thief' and recorded the date and time of access. Therefore, in the event of a real theft it would be possible to quickly and easily indentify the culprit. Conclusion When CDs are missing it can be extremely stressful for the staff involved. Those who have access to CDs may feel unfairly scrutinised and the potential for false accusation exists. Investigating the theft of CDs is costly and usually involves pharmacists, managers and the police. Until the issue is resolved, potential suspects are usually suspended from work, leading to disruptions in patient care. The utility of the Limpet in modifying staff behaviour by reducing the number of occasions and the duration of time that open drug cupboards are left unattended, has previously been demonstrated [1]. By providing the facility to determine exactly who accessed each CD cupboard at which time, this initial study has shown the benefi ts of the Limpet as a tool for detecting theft. Therefore the installation of the Limpet mitigates the diffi culties of investigating CD theft and is likely to prove an eff ective deterrent. Reference 1. The Limpet drug cabinet alarm: technology for safer drug stewardship [abstract and poster presentation].\n",
      "------------------------------------------------\n",
      "0.09991996649168486\n",
      "Title:  Members of the editorial board\n",
      "Abstract:  Decision making in medicine is informed by a subtle mixture of factors: education, experience, local protocols, gut feeling, avoiding litigation. The principle of audit is that one can influence practice also by reflecting back personal performance measured against standardised averages or formal guidance. Mitchell and colleagues highlight some of the challenges herein in their analysis of computed tomography in acute presentations with epilepsy. 1 They develop the findings of a recent national audit in the UK in selected cohorts of such patients which identified that as many as one in five patients with known epilepsy had scans following presentation to the emergency department. Many of you reading this are involved with such acute medicine presentations. They present a population level analysis over a 3-year period to identify patient factors associated with the rate of scanning. The potential of this to influence management algorithms and practice is discussed elegantly. The theme of developing local policy by using national datasuch as the Hospital Episode Statistics (HES) -is developed in the paper by Soong et al . 2 Frailty is a common condition with a potentially significant health impact among older adults. To date, it is not known whether stratifying by degrees of frailty can help plan care and result in improved outcomes. In a retrospective observational study, the authors report the predictive ability of routinely coded 'frailty syndromes' to predict long length of stay and mortality in a 1-year sample of patients over the age of 65. Frailty is of relevance to generalists, given the previous finding by the same group that the majority of hospital admission patients have at least one of these frailty syndromes. Clinical Medicine is proudly a journal of the Royal College of Physicians (RCP), and is delighted to showcase topics that are of interest to the RCP. One of these is the need for NHS-based tobacco addiction services, as highlighted in the RCP report Hiding in plain sight: Treating tobacco dependency in the NHS which called for a new model of care providing 'opt-out' specialist services to treat the condition. 3 Evison and colleagues from Manchester report on the CURE project, the first UK service modelled on the Ottawa Model for Smoking Cessation. 4 A feature of the model is that secondary care clinicians are at the frontline in the delivery of treatment, of especial importance since the NHS 10-year plan commits to funding the treatment of Think national, act local: the role of the physician and the RCP tobacco addiction in hospitals. The CURE project provides a potential framework for national roll out of such services, and we are delighted to present the impact of the study in the first 6 months of service. Another national, indeed global, health crisis -much more acute -is the ongoing outbreak of the novel coronavirus disease (COVID-19) . The RCP, and its journals, are able to respond in nimble fashion with an update on the evolving outbreak, its clinical manifestations and the priorities for the immediate future. Alex Lake, one of the journal's associate editors has provided an excellent overview highlighting principles that physicians should consider. 5 In this rapidly evolving scenario, the latest advice page remains an essential resource: www.gov.uk/government/ collections/wuhan-novel-coronavirus As ever, alongside these reviews and original submissions we have our regular CME section (this month, on renal medicine curated by our outstanding demitting nephrology associate editor, Mike Almond) as well as our insight-provoking clinical cases and lessons of the month. And we feature another of our popular Opinion pieces -this time on training in clinical examination. 6 We hope you find plenty of content to enjoy and share. ■ References 1 Mitchell JW , Kallis C , Dixon PA , Grainger R , Marson AG . Computed tomography in patients with epileptic seizures admitted acutely to hospital: A population level analysis of routinely collected healthcare data . Clin\n",
      "------------------------------------------------\n",
      "0.10722969261873189\n",
      "Title:  Private collection: high correlation of sample collection and patient admission date in clinical microbiological testing complicates sharing of phylodynamic metadata\n",
      "Abstract:  Infectious pathogens are known for their rapid evolutionary rates with new mutations arising over days to weeks. The ability to rapidly recover whole genome sequences and analyze the spread and evolution of pathogens using genetic information and pathogen collection dates has lead to interest in real-time tracking of infectious transmission and outbreaks. However, the level of temporal resolution afforded by these analyses may conflict with definitions of what constitutes protected health information (PHI) and privacy requirements for de-identification for publication and public sharing of research data and metadata. In the United States, dates and locations associated with patient care that provide greater resolution than year or the first three digits of the zip code are generally considered patient identifiers. Admission and discharge dates are specifically named as identifiers in Department of Health and Human Services guidance. To understand the degree to which one can impute admission dates from specimen collection dates, we examined sample collection dates and patient admission dates associated with more than 270,000 unique microbiological results from the University of Washington Laboratory Medicine Department between 2010 and 2017. Across all positive microbiological tests, the sample collection date exactly matched the patient admission date in 68.8% of tests. Collection dates and admission dates were identical from emergency department and outpatient testing 86.7% and 96.5% of the time, respectively, with >99% of tests collected within 1 day from the patient admission date. Samples from female patients were significantly more likely to be collected closer to admission date that those from male patients. We show that PHI-associated dates such as admission date can confidently be imputed from deposited collection date. We suggest that publicly depositing microbiological collection dates at greater resolution than the year may not meet routine Safe Harbor-based requirements for patient de-identification. We recommend the use of Expert Determination to determine PHI for a given study and/or direct patient consent if clinical laboratories or phylodynamic practitioners desire to make these data available.\n",
      "------------------------------------------------\n",
      "0.12543796080288078\n",
      "Title:  Vaccine testing for emerging infections: the case for individual randomisation HHS Public Access\n",
      "Abstract:  During the 2014-2015 Ebola outbreak in Guinea, Liberia and Sierra Leone, many opposed the use of individually randomised controlled trials to test candidate Ebola vaccines. For a raging fatal disease, they explained, it is unethical to relegate some study participants to control arms. In Zika and future emerging infections, similar opposition may hinder urgent vaccine research, so it is best to address these questions now. This article lays out the ethical case for individually randomised control in testing vaccines against many emerging infections, including lethal infections in lowincome countries, even when at no point in the trial do the controls receive the countermeasures being tested. When individual randomisation is feasible-and it often will be-it tends to save more lives than alternative designs would. And for emerging infections, individual randomisation also tends as such to improve care, access to the experimental vaccine and prospects for all participants relative to their opportunities absent the trial, and no less than alternative designs would. That obtains even under placebo control and without equipoise-requiring which would undermine individual randomisation and the alternative designs that opponents proffered. Our arguments expound four often-neglected factors: benefits to non-participants, benefits to participants once a trial is over including post-trial access to the study intervention, participants' prospects before randomisation to arms and the near-inevitable disparity between arms in any randomised controlled trial. At the height of the recent Ebola outbreak in West Africa, a debate emerged: i how to test the efficacy of candidate Ebola treatments and vaccinations? Should investigators randomise individual participants to receive either the relevant countermeasure or a control substance?\n",
      "------------------------------------------------\n",
      "0.1265728214627891\n",
      "Title:  Congenital Malaria in China\n",
      "Abstract:  Background: Congenital malaria, in which infants are directly infected with malaria parasites from their mother prior to or during birth, is a potentially life-threatening condition that occurs at relatively low rates in malariaendemic regions. It is recognized as a serious problem in Plasmodium falciparum-endemic sub-Saharan Africa, where recent data suggests that it is more common than previously believed. In such regions where malaria transmission is high, neonates may be protected from disease caused by congenital malaria through the transfer of maternal antibodies against the parasite. However, in low P. vivax-endemic regions, immunity to vivax malaria is low; thus, there is the likelihood that congenital vivax malaria poses a more significant threat to newborn health. Malaria had previously been a major parasitic disease in China, and congenital malaria case reports in Chinese offer valuable information for understanding the risks posed by congenital malaria to neonatal health. As most of the literature documenting congenital malaria cases in China are written in Chinese and therefore are not easily accessible to the global malaria research community, we have undertaken an extensive review of the Chinese literature on this subject. Here, we reviewed congenital malaria cases from three major searchable Chinese journal databases, concentrating on data from 1915 through 2011. Following extensive screening, a total of 104 cases of congenital malaria were identified. These cases were distributed mainly in the eastern, central, and southern regions of China, as well as in the low-lying region of southwest China. The dominant species was P. vivax (92.50%), reflecting the malaria parasite species distribution in China. The leading clinical presentation was fever, and other clinical presentations were anaemia, jaundice, paleness, diarrhoea, vomiting, and general weakness. With the exception of two cases, all patients were cured with antimalarial drugs such as chloroquine, quinine, artemether, and artesunate. The symptoms of congenital malaria vary significantly between cases, so clear and early diagnosis is difficult. We suggest that active surveillance might be necessary for neonates born to mothers with a history of malaria.\n"
     ]
    }
   ],
   "source": [
    "indices, distances = top_k_similar(paper_topic_dist, task1_topic_dist, \n",
    "                                   return_distances=True, k=5, metric=jensenshannon)\n",
    "display_closest_papers(indices, distances)"
   ]
  },
  {
   "cell_type": "code",
   "execution_count": 23,
   "metadata": {},
   "outputs": [
    {
     "data": {
      "image/png": "[encoded data removed]",
      "text/plain": [
       "<Figure size 576x720 with 1 Axes>"
      ]
     },
     "metadata": {
      "needs_background": "light"
     },
     "output_type": "display_data"
    }
   ],
   "source": [
    "def plot_topic_dist(topic_dist: np.ndarray, title='Topic distribution'):\n",
    "    n_topics = topic_dist.shape[0]\n",
    "    \n",
    "    fig, ax = plt.subplots()\n",
    "    fig.set_figheight(10)\n",
    "    fig.set_figwidth(8)\n",
    "    ax.barh(np.arange(n_topics), topic_dist, align='center')\n",
    "    ax.set_yticks(np.arange(n_topics))\n",
    "    ax.set_yticklabels([\"Topic #{}\".format(i + 1) for i in range(n_topics)])\n",
    "    ax.invert_yaxis()  # labels read top-to-bottom\n",
    "\n",
    "    ax.set_xlabel('Topic probability')\n",
    "    ax.set_title(title)\n",
    "    plt.show()\n",
    "\n",
    "plot_topic_dist(task1_topic_dist, title='Task 1 full topic distribution')"
   ]
  },
  {
   "cell_type": "markdown",
   "metadata": {},
   "source": [
    "### Task 1: Prevalence of asymptomatic shedding and transmission particularly children."
   ]
  },
  {
   "cell_type": "code",
   "execution_count": 11,
   "metadata": {},
   "outputs": [
    {
     "data": {
      "text/plain": [
       "array([0.0111145 , 0.71456275, 0.01111416, 0.01111266, 0.01111225,\n",
       "       0.01111195, 0.01111239, 0.01111523, 0.196532  , 0.01111212])"
      ]
     },
     "execution_count": 11,
     "metadata": {},
     "output_type": "execute_result"
    }
   ],
   "source": [
    "question = \"Prevalence of asymptomatic shedding and transmission particularly children.\"\n",
    "question_counts = vectorizer.transform([question])[0]\n",
    "question_topic_dist = lda.transform(question_counts.reshape(1, -1))[0]\n",
    "question_topic_dist"
   ]
  },
  {
   "cell_type": "code",
   "execution_count": 22,
   "metadata": {},
   "outputs": [
    {
     "data": {
      "image/png": "[encoded data removed]",
      "text/plain": [
       "<Figure size 576x720 with 1 Axes>"
      ]
     },
     "metadata": {
      "needs_background": "light"
     },
     "output_type": "display_data"
    }
   ],
   "source": [
    "plot_topic_dist(question_topic_dist, title='Question 1 topic distribution')"
   ]
  },
  {
   "cell_type": "code",
   "execution_count": 12,
   "metadata": {
    "scrolled": true
   },
   "outputs": [
    {
     "name": "stdout",
     "output_type": "stream",
     "text": [
      "------------------------------------------------\n",
      "0.056111108224192394\n",
      "Title:  Environmental investigation of respiratory pathogens during the Hajj 2016 and 2018\n",
      "Abstract:  Background: Respiratory tract infections are common in the context of the Hajj pilgrimage and respiratory pathogens can be transmitted via contact with contaminated surfaces. We sampled surfaces during the Hajj to detect the presence of respiratory bacteria and viruses. Methods: Frequently touched surfaces at Mecca, Mina, Arafat and Medina were sampled. The common respiratory pathogens were tested by qPCR. Results: 70/142 (49.3%) environmental samples collected were positive for at least one respiratory pathogen. Among the positive samples, Klebsiella pneumoniae was the bacterium most frequently tested positive (57.1%), followed by Streptococcus pneumoniae (12.9%), Staphylococcus aureus (10.0%) and Haemophilus influenzae (7.1%). 32.9% positive samples tested positive for rhinovirus and 1.4% for coronavirus. Surfaces with the highest rates of positive samples were kitchen tables (100%), water fountain faucet (73.3%) and edge of water coolers lid (84.6%). Samples collected in Mina were the most frequently contaminated with 68.8% being positive for at least one pathogen and 18.8% positive for a combination of multiple pathogens. Conclusion: These preliminary results indicate that respiratory pathogens are common in environmental surfaces from areas frequented by Hajj pilgrims. Further larger-scale studies are needed to better assess the possible role of environmental respiratory pathogens in respiratory infections in Hajj pilgrims.\n",
      "------------------------------------------------\n",
      "0.07825806481096009\n",
      "Title:  Seroepidemiology of Human Bocavirus Infection in Jamaica\n",
      "Abstract:  Background: Human bocavirus (HBoV) is a newly identified human parvovirus. HBoV is associated with upper and lower respiratory tract infections and gastroenteritis in children. Little is known about the seroepidemiology of HBoV in populations in the Caribbean. Methods: In a cross-sectional study conducted at the University Hospital of the West Indies in Kingston, Jamaica, 287 blood samples were collected from pediatric patients and tested for the presence of HBoV-specific antibody using a virus-likeparticle based enzyme-linked immunosorbent assay (ELISA). Results: HBoV-specific antibodies were found to be present in 220/287 (76.7%) of samples collected from the pediatric population. Seroprevalence of HBoV was highest in those $2 years old. The seroepidemiological profile suggests that most children are exposed to HBoV during the first two years of life in Jamaica. Conclusion: HBoV infection is common in children in Jamaica. HBoV seroprevalence rates in the Caribbean are similar to those previously reported in other areas of the world.\n",
      "------------------------------------------------\n",
      "0.08618059318481165\n",
      "Title:  Etiology of Influenza-Like Illnesses from Sentinel Network Practitioners in Réunion Island, 2011-2012\n",
      "Abstract:  In Ré union Island, despite an influenza surveillance established since 1996 by the sentinel general practitioner's network, little is known about the etiology of Influenza like-illness (ILI) that differs from influenza viruses in a tropical area. We set up a retrospective study using nasal swabs collected by sentinel GPs from ILI patients in 2011 and 2012. A total of 250 swabs were randomly selected and analyzed by multiplex reverse transcriptase polymerase chain reaction (RT-PCR) including research of 18 viruses and 4 bacteria. We detected respiratory viruses in 169/222 (76.1%) samples, mostly rhinovirus (23.4%), influenza A virus (21.2%), influenza B virus (12.6%), coronavirus (4.9%) and Human metapneumovirus (3.6%). Nine swabs (5.3% of positive swabs) revealed co-infections with two viruses identified, among which six concerned co-infections with influenza viruses. We observed important seasonal differences, with circulation of Human Metapneumoviruses, RSV A and B and coronavirus only during summer; whereas parainfluenza viruses were identified only during winter. In conclusion, this study highlights a substantial circulation of multiple respiratory pathogens in Ré union Island throughout the year. It shows that ILI are not only attributable to influenza and underlines the need for biological surveillance. As the use of multiplex RT-PCR showed its efficacy, it is now used routinely in the surveillance of ILI.\n",
      "------------------------------------------------\n",
      "0.0878122424551236\n",
      "Title:  Human coronavirus circulation in the United States 2014-2017 ☆\n",
      "Abstract:  Background: Human coronaviruses (HCoVs) -OC43, -229E, -NL63 and -HKU1 cause upper and lower respiratory tract infections. HCoVs are globally distributed and the predominant species may vary by region or year. Prior studies have shown seasonal patterns of HCoV species and annual variation in species prevalence but national circulation patterns in the US have not yet been described. Objectives: To describe circulation patterns of HCoVs -OC43, -229E, -NL63 and -HKU1 in the US. Study design: We reviewed real-time reverse transcription polymerase chain reaction (rRT-PCR) test results for HCoV-OC43, -229E\n",
      "------------------------------------------------\n",
      "0.09520922077246333\n",
      "Title:  Clinical Infectious Diseases Continuous Invasion by Respiratory Viruses Observed in Rural Households During a Respiratory Syncytial Virus Seasonal Outbreak in Coastal Kenya\n",
      "Abstract:  Households are high-intensity close-contact environments favorable for transmission of respiratory viruses, yet little is known for low-income settings. Methods. Active surveillance was completed on 47 households in rural coastal Kenya over 6 months during a respiratory syncytial virus (RSV) season. Nasopharyngeal swabs (NPSs) were taken from 483 household members twice weekly irrespective of symptoms. Using molecular diagnostics, NPSs from 6 households were screened for 15 respiratory viruses and the remainder of households only for the most frequent viruses observed: rhinovirus (RV), human coronavirus (HCoV; comprising strains 229E, OC43, and NL63), adenovirus (AdV), and RSV (A and B). Results. Of 16 928 NPSs tested for the common viruses, 4259 (25.2%) were positive for ≥1 target; 596 (13.8%) had coinfections. Detection frequencies were 10.5% RV (1780), 7.5% HCoV (1274), 7.3% AdV (1232), and 3.2% RSV (537). On average, each household and individual had 6 and 3 different viruses detected over the study period, respectively. Rhinovirus and HCoV were detected in all the 47 households while AdV and RSV were detected in 45 (95.7%) and 40 (85.1%) households, respectively. The individual risk of infection over the 6-month period was 93.4%, 80.1%, 71.6%, 61.5%, and 37.1% for any virus, RV, HCoV, AdV, and RSV, respectively. NPSs collected during symptomatic days and from younger age groups had higher prevalence of virus detection relative to respective counterparts. RSV was underrepresented in households relative to hospital admission data. Conclusions. In this household setting, respiratory virus infections and associated illness are ubiquitous. Future studies should address the health and economic implications of these observations.\n"
     ]
    }
   ],
   "source": [
    "indices, distances = top_k_similar(paper_topic_dist, question_topic_dist, \n",
    "                                   return_distances=True, k=5, metric=jensenshannon)\n",
    "display_closest_papers(indices, distances)"
   ]
  },
  {
   "cell_type": "markdown",
   "metadata": {},
   "source": [
    "### Task 1: Disease models including animal models for infection disease and transmission"
   ]
  },
  {
   "cell_type": "code",
   "execution_count": 19,
   "metadata": {},
   "outputs": [
    {
     "data": {
      "text/plain": [
       "array([0.00909392, 0.00909167, 0.00909434, 0.00909145, 0.009093  ,\n",
       "       0.00909176, 0.00909166, 0.51034465, 0.41691448, 0.00909305])"
      ]
     },
     "execution_count": 19,
     "metadata": {},
     "output_type": "execute_result"
    }
   ],
   "source": [
    "question = \"Disease models including animal models for infection disease and transmission.\"\n",
    "question_counts = vectorizer.transform([question])[0]\n",
    "question_topic_dist = lda.transform(question_counts.reshape(1, -1))[0]\n",
    "question_topic_dist"
   ]
  },
  {
   "cell_type": "code",
   "execution_count": 20,
   "metadata": {
    "scrolled": true
   },
   "outputs": [
    {
     "name": "stdout",
     "output_type": "stream",
     "text": [
      "------------------------------------------------\n",
      "0.043891657144334455\n",
      "Title:  Public health concerns of highly pathogenic avian influenza H5N1 endemicity in Africa\n",
      "Abstract:  Highly pathogenic avian influenza virus (HPAIV) H5N1 was first officially reported in Africa in 2006; thereafter this virus has spread rapidly from Nigeria to 11 other African countries. This study was aimed at utilizing data from confirmed laboratory reports to carry out a qualitative evaluation of the factors responsible for HPAI H5N1 persistence in Africa and the public health implications; and to suggest appropriate control measures. Relevant publications were sought from data banks and repositories of FAO, OIE, WHO, and Google scholars. Substantiated data on HPAI H5N1 outbreaks in poultry in Africa and in humans across the world were mined. HPAI H5N1 affects poultry and human populations, with Egypt having highest human cases (346) globally. Nigeria had a reinfection from 2014 to 2015, with outbreaks in Côte d'Ivoire, Ghana, Niger, Nigeria, and Burkina Faso throughout 2016 unabated. The persistence of this virus in Africa is attributed to the survivability of HPAIV, ability to evolve other subtypes through genetic reassortment, poor biosecurity compliance at the live bird markets and poultry farms, husbandry methods and multispecies livestock farming, poultry vaccinations, and continuous shedding of HPAIV, transboundary transmission of HPAIV through poultry trades; and transcontinental migratory birds. There is, therefore, the need for African nations to realistically reassess their status, through regular surveillance and be transparent with HPAI H5N1 outbreak data. Also, it is important to have an understanding of HPAIV migration dynamics which will be helpful in epidemiological modeling, disease prevention, control and eradication measures.\n",
      "------------------------------------------------\n",
      "0.04760208688677255\n",
      "Title:  \n",
      "Abstract:  In 1997, the avian influenza A subtype H5N1 that caused big outbreaks of fowl pest in mass poultry farming had emerged in Hong Kong. Its spread throughout Eurasia had given rise to concerns in terms of the possible imminence of the next human influenza pandemic. In this article, epidemiological and virological arguments supporting or declining this fear are outlined and discussed with regard to viral infectivity and pathogenicity.\n",
      "------------------------------------------------\n",
      "0.0485886772619721\n",
      "Title:  Influenza A H5N1 and H7N9 in China: A spatial risk analysis\n",
      "Abstract:  Zoonotic avian influenza poses a major risk to China, and other parts of the world. H5N1 has remained endemic in China and globally for nearly two decades, and in 2013, a novel zoonotic influenza A subtype H7N9 emerged in China. This study aimed to improve upon our current understanding of the spreading mechanisms of H7N9 and H5N1 by generating spatial risk profiles for each of the two virus subtypes across mainland China. Citation: Bui CM, Gardner L, MacIntyre R, Sarkar S (2017) Influenza A H5N1 and H7N9 in China: A spatial risk analysis. PLoS ONE 12(4): e0174980.\n",
      "------------------------------------------------\n",
      "0.052449393547116835\n",
      "Title:  Potential for Introduction of Bat-Borne Zoonotic Viruses into the EU: A Review\n",
      "Abstract:  Bat-borne viruses can pose a serious threat to human health, with examples including Nipah virus (NiV) in Bangladesh and Malaysia, and Marburg virus (MARV) in Africa. To date, significant human outbreaks of such viruses have not been reported in the European Union (EU). However, EU countries have strong historical links with many of the countries where NiV and MARV are present and a corresponding high volume of commercial trade and human travel, which poses a potential risk of introduction of these viruses into the EU. In assessing the risks of introduction of these bat-borne zoonotic viruses to the EU, it is important to consider the location and range of bat species known to be susceptible to infection, together with the virus prevalence, seasonality of viral pulses, duration of infection and titre of virus in different bat tissues. In this paper, we review the current scientific knowledge of all these factors, in relation to the introduction of NiV and MARV into the EU.\n",
      "------------------------------------------------\n",
      "0.0530066994753044\n",
      "Title:  Mechanisms for lyssavirus persistence in non-synanthropic bats in Europe: insights from a modeling study\n",
      "Abstract:  Bats are natural reservoirs of the largest proportion of viral zoonoses among mammals, thus understanding the conditions for pathogen persistence in bats is essential to reduce human risk. Miniopterus schreibersii bat species in Catalonia. We find that persistence relies on host spatial structure through the migratory nature of M. schreibersii, on cross-species mixing with M. myotis, and on survival of infected animals followed by temporary immunity. The virus would not persist in the single colony of M. myotis. Our study provides for the first time epidemiological estimates for EBLV-1 progression in M. schreibersii. Our approach can be readily adapted to other zoonoses of public health concern where long-range migration and habitat sharing may play an important role.\n"
     ]
    }
   ],
   "source": [
    "indices, distances = top_k_similar(paper_topic_dist, question_topic_dist, \n",
    "                                   return_distances=True, k=5, metric=jensenshannon)\n",
    "display_closest_papers(indices, distances)"
   ]
  }
 ],
 "metadata": {
  "kernelspec": {
   "display_name": "Python 3",
   "language": "python",
   "name": "python3"
  },
  "language_info": {
   "codemirror_mode": {
    "name": "ipython",
    "version": 3
   },
   "file_extension": ".py",
   "mimetype": "text/x-python",
   "name": "python",
   "nbconvert_exporter": "python",
   "pygments_lexer": "ipython3",
   "version": "3.8.1"
  }
 },
 "nbformat": 4,
 "nbformat_minor": 4
}
