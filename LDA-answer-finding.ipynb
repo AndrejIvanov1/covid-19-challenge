{
 "cells": [
  {
   "cell_type": "markdown",
   "metadata": {},
   "source": [
    "## Question answering with LDA\n",
    "In this notebook, we attempt to use the trained [LDA topics model](./LDA.ipynb) to find information for the tasks. More specifically, for each task:\n",
    "\n",
    "1) We define a set of keywords which define the task and treat the task a document consisting of these words.\n",
    "\n",
    "2) Calculate the topic distribution of the \"document\" of the task.\n",
    "\n",
    "3) Find the k abstracts with the most similar topic distributions to the task topic distribution."
   ]
  },
  {
   "cell_type": "code",
   "execution_count": 8,
   "metadata": {},
   "outputs": [],
   "source": [
    "import os\n",
    "import json\n",
    "import re\n",
    "from time import time\n",
    "from collections import Counter\n",
    "\n",
    "%matplotlib inline\n",
    "\n",
    "import pickle \n",
    "import numpy as np\n",
    "import pandas as pd\n",
    "import matplotlib.pyplot as plt\n",
    "\n",
    "from sklearn.decomposition import LatentDirichletAllocation\n",
    "from sklearn.feature_extraction.text import CountVectorizer\n",
    "from sklearn.metrics import pairwise_distances\n",
    "from scipy.spatial.distance import jensenshannon"
   ]
  },
  {
   "cell_type": "markdown",
   "metadata": {},
   "source": [
    "### Load LDA model and papers data"
   ]
  },
  {
   "cell_type": "code",
   "execution_count": 2,
   "metadata": {},
   "outputs": [
    {
     "name": "stdout",
     "output_type": "stream",
     "text": [
      "Loading LDA model...\n",
      "Loading all paper data...\n"
     ]
    },
    {
     "data": {
      "text/plain": [
       "(33375, 10)"
      ]
     },
     "execution_count": 2,
     "metadata": {},
     "output_type": "execute_result"
    }
   ],
   "source": [
    "print(\"Loading LDA model...\")\n",
    "lda_dir = os.path.join('data', 'lda_10_topics')\n",
    "with open(os.path.join(lda_dir, 'model.pkl'), 'rb') as f:\n",
    "    lda = pickle.load(f)\n",
    "with open(os.path.join(lda_dir, 'vectorizer.pkl'), 'rb') as f:\n",
    "    vectorizer = pickle.load(f)\n",
    "with open(os.path.join(lda_dir, 'count_data.pkl'), 'rb') as f:\n",
    "    count_data = pickle.load(f)\n",
    "\n",
    "print(\"Loading all paper data...\")\n",
    "with open('data/all_text.json', 'r') as f:\n",
    "    json_data = json.load(f)\n",
    "    \n",
    "paper_ids = list(json_data.keys())\n",
    "index_to_paperid_map = {ind: paper_ids[ind] for ind in range(len(paper_ids))}\n",
    "\n",
    "paper_topic_dist = lda.transform(count_data) # topic distribution of each paper\n",
    "\n",
    "assert(len(paper_ids) == paper_topic_dist.shape[0])\n",
    "paper_topic_dist.shape"
   ]
  },
  {
   "cell_type": "code",
   "execution_count": 13,
   "metadata": {},
   "outputs": [],
   "source": [
    "def top_k_similar(paper_topic_dist: np.ndarray, query_topic_dist: np.ndarray, \n",
    "                  metric='euclidean', k=10, return_distances=False, only_covid=False) -> list:\n",
    "    \"\"\"\n",
    "        Input:\n",
    "            paper_topic_dist - the LDA topic distribution of each paper\n",
    "            query_topic_dist - the LDA topic distribution of the query\n",
    "        Returns:\n",
    "            Indicies of the papers closest in topic distribution to the query\n",
    "    \"\"\"\n",
    "    assert(paper_topic_dist.ndim == 2)\n",
    "    assert(paper_topic_dist.shape[1] == query_topic_dist.size)\n",
    "    \n",
    "    distances = pairwise_distances(paper_topic_dist, query_topic_dist.reshape(1, -1))\n",
    "    distances = distances.flatten()\n",
    "    \n",
    "    assert(distances.shape[0] == paper_topic_dist.shape[0])\n",
    "    \n",
    "    indexed_distances = [(i, distances[i]) for i in range(distances.shape[0])]\n",
    "    \n",
    "    if only_covid:\n",
    "        covid_regexp = re.compile(r'covid|cov-19|covid19|corona')\n",
    "        indexed_distances = [(i, d) for (i,d) in indexed_distances if \n",
    "                             covid_regexp.search(json_data[index_to_paperid_map[i]]['abstract'])]\n",
    "    \n",
    "    sorted_indexed_distances = sorted(indexed_distances, key=lambda p: p[1])\n",
    "    ind, d = zip(*sorted_indexed_distances[:k])\n",
    "    \n",
    "    if return_distances:\n",
    "        return ind, d\n",
    "    else:\n",
    "        return ind"
   ]
  },
  {
   "cell_type": "markdown",
   "metadata": {},
   "source": [
    "### Task 1\n",
    "#### What is known about transmission, incubation, and environmental stability? What do we know about natural history, transmission, and diagnostics for the virus? What have we learned about infection prevention and control?\n",
    "* Range of incubation periods for the disease in humans (and how this varies across age and health status) and how long individuals are contagious, even after recovery.\n",
    "* Prevalence of asymptomatic shedding and transmission (e.g., particularly children)\n",
    "* Seasonality of transmission\n",
    "* Physical science of the coronavirus (e.g., charge distribution, adhesion to hydrophilic/phobic surfaces, environmental survival to inform decontamination efforts for affected areas and provide information about viral shedding).\n",
    "* Persistence and stability on a multitude of substrates and sources (e.g., nasal discharge, sputum, urine, fecal matter, blood).\n",
    "* Disease models, including animal models for infection, disease and transmission\n",
    "* Effectiveness of movement control strategies to prevent secondary transmission in health care and community settings"
   ]
  },
  {
   "cell_type": "code",
   "execution_count": 4,
   "metadata": {},
   "outputs": [
    {
     "data": {
      "text/plain": [
       "array([0.16119692, 0.00071967, 0.21589232, 0.03001817, 0.01273955,\n",
       "       0.00071954, 0.02670407, 0.07496354, 0.40285785, 0.07418837])"
      ]
     },
     "execution_count": 4,
     "metadata": {},
     "output_type": "execute_result"
    }
   ],
   "source": [
    "task1_questions = [\n",
    "    # general questions\n",
    "    \"What is known about transmission incubation and environmental stability What do we know about natural history transmission and diagnostics for the virus What have we learned about infection prevention and control\",\n",
    "    \n",
    "    # sub-task questions\n",
    "    \"Range of incubation periods for the disease in humans and how this varies across age and health status and how long individuals are contagious, even after recovery.\",\n",
    "    \"Prevalence of asymptomatic shedding and transmission particularly children\", \n",
    "    \"Seasonality season of transmission\",\n",
    "    \"Physical science of the coronavirus charge distribution, adhesion to hydrophilic phobic surfaces, environmental survival to inform decontamination efforts for affected areas and provide information about viral shedding\",\n",
    "    \"Persistence and stability on a multitude of substrates and sources nasal discharge sputum  urine  fecal matter  blood\",\n",
    "    \"Disease models including animal models for infection disease and transmission\",\n",
    "    \"Effectiveness of movement control strategies to prevent secondary transmission in health care healthcare and community settings\"]\n",
    "\n",
    "task1_document = '. '.join(task1_questions)\n",
    "task1_counts = vectorizer.transform([task1_document])[0]\n",
    "task1_topic_dist = lda.transform(task1_counts.reshape(1, -1))[0]\n",
    "\n",
    "assert(task1_topic_dist.sum() == 1)\n",
    "task1_topic_dist"
   ]
  },
  {
   "cell_type": "code",
   "execution_count": 5,
   "metadata": {},
   "outputs": [],
   "source": [
    "def display_closest_papers(indices: list, distances: list):\n",
    "    for ind, d in zip(indices, distances):\n",
    "        print(\"------------------------------------------------\")\n",
    "        print(d)\n",
    "        paper_id = index_to_paperid_map[ind]\n",
    "        abstract = json_data[paper_id]['abstract']\n",
    "        title = json_data[paper_id]['title']\n",
    "        print(\"Title: \", title)\n",
    "        print(\"Abstract: \", abstract)"
   ]
  },
  {
   "cell_type": "markdown",
   "metadata": {},
   "source": [
    "### Approach 1:  Query for all subtasks of the task jointly\n",
    "In this experiment, we represent **all subtasks of task 1 as a single document**. We then calculate the topic distribution of this document, and find the papers with the most similar topic distributions.\n",
    "\n",
    "The results of the experiments are subpar. By examination of each of the top 5 closest papers to the query, we cannot find any direct connection between the paper and any of the individual task 1 subtasks. For instance, the top match is a meta analysis of decision making in medicine. The second and third papers discuss prescription errors in UK hospitals and malaria in China respectively. The 4th paper discusses animals, which is related to one of the tasks, but the context is completely missed; the task asks about infection/disease models on animals, and the paper discusses use of animals to aleviate patient stress."
   ]
  },
  {
   "cell_type": "code",
   "execution_count": 6,
   "metadata": {
    "scrolled": true
   },
   "outputs": [
    {
     "name": "stdout",
     "output_type": "stream",
     "text": [
      "------------------------------------------------\n",
      "0.09256423476375679\n",
      "Title:  Members of the editorial board\n",
      "Abstract:  Decision making in medicine is informed by a subtle mixture of factors: education, experience, local protocols, gut feeling, avoiding litigation. The principle of audit is that one can influence practice also by reflecting back personal performance measured against standardised averages or formal guidance. Mitchell and colleagues highlight some of the challenges herein in their analysis of computed tomography in acute presentations with epilepsy. 1 They develop the findings of a recent national audit in the UK in selected cohorts of such patients which identified that as many as one in five patients with known epilepsy had scans following presentation to the emergency department. Many of you reading this are involved with such acute medicine presentations. They present a population level analysis over a 3-year period to identify patient factors associated with the rate of scanning. The potential of this to influence management algorithms and practice is discussed elegantly. The theme of developing local policy by using national datasuch as the Hospital Episode Statistics (HES) -is developed in the paper by Soong et al . 2 Frailty is a common condition with a potentially significant health impact among older adults. To date, it is not known whether stratifying by degrees of frailty can help plan care and result in improved outcomes. In a retrospective observational study, the authors report the predictive ability of routinely coded 'frailty syndromes' to predict long length of stay and mortality in a 1-year sample of patients over the age of 65. Frailty is of relevance to generalists, given the previous finding by the same group that the majority of hospital admission patients have at least one of these frailty syndromes. Clinical Medicine is proudly a journal of the Royal College of Physicians (RCP), and is delighted to showcase topics that are of interest to the RCP. One of these is the need for NHS-based tobacco addiction services, as highlighted in the RCP report Hiding in plain sight: Treating tobacco dependency in the NHS which called for a new model of care providing 'opt-out' specialist services to treat the condition. 3 Evison and colleagues from Manchester report on the CURE project, the first UK service modelled on the Ottawa Model for Smoking Cessation. 4 A feature of the model is that secondary care clinicians are at the frontline in the delivery of treatment, of especial importance since the NHS 10-year plan commits to funding the treatment of Think national, act local: the role of the physician and the RCP tobacco addiction in hospitals. The CURE project provides a potential framework for national roll out of such services, and we are delighted to present the impact of the study in the first 6 months of service. Another national, indeed global, health crisis -much more acute -is the ongoing outbreak of the novel coronavirus disease (COVID-19) . The RCP, and its journals, are able to respond in nimble fashion with an update on the evolving outbreak, its clinical manifestations and the priorities for the immediate future. Alex Lake, one of the journal's associate editors has provided an excellent overview highlighting principles that physicians should consider. 5 In this rapidly evolving scenario, the latest advice page remains an essential resource: www.gov.uk/government/ collections/wuhan-novel-coronavirus As ever, alongside these reviews and original submissions we have our regular CME section (this month, on renal medicine curated by our outstanding demitting nephrology associate editor, Mike Almond) as well as our insight-provoking clinical cases and lessons of the month. And we feature another of our popular Opinion pieces -this time on training in clinical examination. 6 We hope you find plenty of content to enjoy and share. ■ References 1 Mitchell JW , Kallis C , Dixon PA , Grainger R , Marson AG . Computed tomography in patients with epileptic seizures admitted acutely to hospital: A population level analysis of routinely collected healthcare data . Clin\n",
      "------------------------------------------------\n",
      "0.09708733048628669\n",
      "Title:  Minimising prescribing errors in the ICU DJ Melia, S Saha Queen' s Hospital, Romford, UK Critical Care\n",
      "Abstract:  We aimed to audit the prescribing practice on a busy 14-bedd general ICU, and develop standardised practices and tools to improve safety. Prescribing errors occur as commonly as in 10% of UK hospital admissions, costing 8.5 extra bed days per admission, and costing the National Health Service an estimated £1 billion per annum [1]. The majority of these mistakes are avoidable [2]. Methods We audited the daily infusion charts of all patients in three separate spot checks, over 1 week. We assessed all aspects of prescriptions that make them legal and valid, in accordance with national guidance [3]. New procedures were introduced, which included a standardised prescription sticker, with common, preprinted, infusion prescriptions on (noradrenaline, propofol, and so forth), and education on using the new prescription stickers. A month later the audit process was repeated. We assessed 129 prescriptions in the fi rst round, and 111 after intervention, demonstrating a 70% improvement in safe prescribing. Only 24% of prescriptions initially fulfi lled best practice criteria, improving to 94% afterwards. We also reduced the number of infusions running without prescription, 7 (6%) versus 24 (19%). See Figures 1 and 2 . Conclusion Our audit supports the need for standardised prescribing practices within critical care, especially when dealing with potentially harmful vasoactive/sedative drugs. With a small, cost-eff ective intervention (£20 for 6,200 stickers), we improved prescribing accuracy, and thus patient safety in intensive care. P2 Results Mock thefts were successfully accomplished on six occasions over a 4-week period. On each occasion the Limpet photographed the 'thief' and recorded the date and time of access. Therefore, in the event of a real theft it would be possible to quickly and easily indentify the culprit. Conclusion When CDs are missing it can be extremely stressful for the staff involved. Those who have access to CDs may feel unfairly scrutinised and the potential for false accusation exists. Investigating the theft of CDs is costly and usually involves pharmacists, managers and the police. Until the issue is resolved, potential suspects are usually suspended from work, leading to disruptions in patient care. The utility of the Limpet in modifying staff behaviour by reducing the number of occasions and the duration of time that open drug cupboards are left unattended, has previously been demonstrated [1]. By providing the facility to determine exactly who accessed each CD cupboard at which time, this initial study has shown the benefi ts of the Limpet as a tool for detecting theft. Therefore the installation of the Limpet mitigates the diffi culties of investigating CD theft and is likely to prove an eff ective deterrent. Reference 1. The Limpet drug cabinet alarm: technology for safer drug stewardship [abstract and poster presentation].\n",
      "------------------------------------------------\n",
      "0.1167800339356696\n",
      "Title:  Congenital Malaria in China\n",
      "Abstract:  Background: Congenital malaria, in which infants are directly infected with malaria parasites from their mother prior to or during birth, is a potentially life-threatening condition that occurs at relatively low rates in malariaendemic regions. It is recognized as a serious problem in Plasmodium falciparum-endemic sub-Saharan Africa, where recent data suggests that it is more common than previously believed. In such regions where malaria transmission is high, neonates may be protected from disease caused by congenital malaria through the transfer of maternal antibodies against the parasite. However, in low P. vivax-endemic regions, immunity to vivax malaria is low; thus, there is the likelihood that congenital vivax malaria poses a more significant threat to newborn health. Malaria had previously been a major parasitic disease in China, and congenital malaria case reports in Chinese offer valuable information for understanding the risks posed by congenital malaria to neonatal health. As most of the literature documenting congenital malaria cases in China are written in Chinese and therefore are not easily accessible to the global malaria research community, we have undertaken an extensive review of the Chinese literature on this subject. Here, we reviewed congenital malaria cases from three major searchable Chinese journal databases, concentrating on data from 1915 through 2011. Following extensive screening, a total of 104 cases of congenital malaria were identified. These cases were distributed mainly in the eastern, central, and southern regions of China, as well as in the low-lying region of southwest China. The dominant species was P. vivax (92.50%), reflecting the malaria parasite species distribution in China. The leading clinical presentation was fever, and other clinical presentations were anaemia, jaundice, paleness, diarrhoea, vomiting, and general weakness. With the exception of two cases, all patients were cured with antimalarial drugs such as chloroquine, quinine, artemether, and artesunate. The symptoms of congenital malaria vary significantly between cases, so clear and early diagnosis is difficult. We suggest that active surveillance might be necessary for neonates born to mothers with a history of malaria.\n",
      "------------------------------------------------\n",
      "0.12084416841094098\n",
      "Title:  Animal assisted intervention: A systematic review of benefits and risks\n",
      "Abstract:  The therapeutic use of animals has been debated for decades, and its use explored in a variety of settings and populations. However, there is no uniformity on naming these interventions. Evidence based knowledge is essential to implement effective strategies in hospital. This review focused on the use of animal programs for hospitalized patients, and considered the potential risks. Methods: The following databases were searched: PubMed, Scopus, PsychInfo, Ebsco Animals, PROQUEST, Web of Science, CINAHL, and MEDLINE, and PRISMA guidelines were adhered to. Results: Out of 432 articles were identified 36 articles suitable for inclusion into the review. Data was heterogeneous in terms of age of patient, health issue, animals used and the length of interactions, which made comparison problematic. Studies on children, psychiatric and elderly patients were the most common. The animal-intervention programs suggested various benefits such as reducing stress, pain and anxiety. Other outcomes considered were changes in vital signs, and nutritional intake. Most studies used dogs, but other animals were effectively employed. The major risks outlined were allergies, infections and animal-related accidents. Zoonosis was a possible risk, as well as common infections as Methicillinresistant Staphylococcus Aureus. The implementation of simple hygiene protocols was effective at minimizing risk. The literature suggested that the benefits outweighed by far the risks. Conclusion: The human relationship with animals can be useful and relatively safe for inpatients with various problems. Moreover, the implementation of security precautions and the careful selection of patients should minimize the risks, particularly those infection-related. Many aspects remain unclear, further studies are required.\n",
      "------------------------------------------------\n",
      "0.1279078999391386\n",
      "Title:  The Fourth International Neonatal and Maternal Immunization Symposium (INMIS 2017): Toward Integrating Maternal and Infant Immunization Programs\n",
      "Abstract:  Prevention of serious infections in pregnant mothers, newborns, and young infants through immunization during pregnancy and in early life has the potential to further reduce maternal and neonatal morbidity and mortality worldwide. In the past decade, research in this field has advanced substantially, from the understanding of the biology and immunology of pregnancy and early life, to the active development of several candidate vaccines, for which challenges and opportunities for global implementation are under consideration. Experts from academia, industry, regulatory and funding agencies, public health, and international organizations met in Brussels (Belgium) from 10 to 12 September 2017, at the 4th International Neonatal and Maternal Immunization Symposium (INMIS), to review the most relevant advances in maternal and neonatal immunization. The overarching focus of the conference was to identify the path forward to achieve integration of maternal and early life immunization strategies for the successful implementation of vaccines in antenatal care and pediatric programs for reduction of maternal and infant mortality worldwide. IMPORTANCE This report provides an overview of the proceedings of the 4th International Maternal and Neonatal Immunization Symposium, where presentations focused on the state-of-the-art research on the development and implementation of vaccines given during pregnancy for the protection of mothers and infants.\n"
     ]
    }
   ],
   "source": [
    "indices, distances = top_k_similar(paper_topic_dist, task1_topic_dist, \n",
    "                                   return_distances=True, k=5, metric=jensenshannon)\n",
    "display_closest_papers(indices, distances)"
   ]
  },
  {
   "cell_type": "markdown",
   "metadata": {},
   "source": [
    "### Same approach, consider only COVID documents\n",
    "Motivated by the fact that the previous experiment retrieved very generic documents, we decided to repeat the experiment by considering only documents which explicitly talk about COVID-19. The results are slighly more positive. \n",
    "\n",
    "For instance, the retrieved paper, \"*A high efficient hospital emergency responsive mode is the key of successful treatment of 100 COVID-19 patients in Zhuhai*\", discusses the importance of efficient emergancy response in a Chinese city, which is related to the question: \"*Effectiveness of movement control strategies to prevent secondary transmission in health care healthcare and community settings*\". "
   ]
  },
  {
   "cell_type": "code",
   "execution_count": 14,
   "metadata": {
    "scrolled": true
   },
   "outputs": [
    {
     "name": "stdout",
     "output_type": "stream",
     "text": [
      "------------------------------------------------\n",
      "0.09256423476375679\n",
      "Title:  Members of the editorial board\n",
      "Abstract:  Decision making in medicine is informed by a subtle mixture of factors: education, experience, local protocols, gut feeling, avoiding litigation. The principle of audit is that one can influence practice also by reflecting back personal performance measured against standardised averages or formal guidance. Mitchell and colleagues highlight some of the challenges herein in their analysis of computed tomography in acute presentations with epilepsy. 1 They develop the findings of a recent national audit in the UK in selected cohorts of such patients which identified that as many as one in five patients with known epilepsy had scans following presentation to the emergency department. Many of you reading this are involved with such acute medicine presentations. They present a population level analysis over a 3-year period to identify patient factors associated with the rate of scanning. The potential of this to influence management algorithms and practice is discussed elegantly. The theme of developing local policy by using national datasuch as the Hospital Episode Statistics (HES) -is developed in the paper by Soong et al . 2 Frailty is a common condition with a potentially significant health impact among older adults. To date, it is not known whether stratifying by degrees of frailty can help plan care and result in improved outcomes. In a retrospective observational study, the authors report the predictive ability of routinely coded 'frailty syndromes' to predict long length of stay and mortality in a 1-year sample of patients over the age of 65. Frailty is of relevance to generalists, given the previous finding by the same group that the majority of hospital admission patients have at least one of these frailty syndromes. Clinical Medicine is proudly a journal of the Royal College of Physicians (RCP), and is delighted to showcase topics that are of interest to the RCP. One of these is the need for NHS-based tobacco addiction services, as highlighted in the RCP report Hiding in plain sight: Treating tobacco dependency in the NHS which called for a new model of care providing 'opt-out' specialist services to treat the condition. 3 Evison and colleagues from Manchester report on the CURE project, the first UK service modelled on the Ottawa Model for Smoking Cessation. 4 A feature of the model is that secondary care clinicians are at the frontline in the delivery of treatment, of especial importance since the NHS 10-year plan commits to funding the treatment of Think national, act local: the role of the physician and the RCP tobacco addiction in hospitals. The CURE project provides a potential framework for national roll out of such services, and we are delighted to present the impact of the study in the first 6 months of service. Another national, indeed global, health crisis -much more acute -is the ongoing outbreak of the novel coronavirus disease (COVID-19) . The RCP, and its journals, are able to respond in nimble fashion with an update on the evolving outbreak, its clinical manifestations and the priorities for the immediate future. Alex Lake, one of the journal's associate editors has provided an excellent overview highlighting principles that physicians should consider. 5 In this rapidly evolving scenario, the latest advice page remains an essential resource: www.gov.uk/government/ collections/wuhan-novel-coronavirus As ever, alongside these reviews and original submissions we have our regular CME section (this month, on renal medicine curated by our outstanding demitting nephrology associate editor, Mike Almond) as well as our insight-provoking clinical cases and lessons of the month. And we feature another of our popular Opinion pieces -this time on training in clinical examination. 6 We hope you find plenty of content to enjoy and share. ■ References 1 Mitchell JW , Kallis C , Dixon PA , Grainger R , Marson AG . Computed tomography in patients with epileptic seizures admitted acutely to hospital: A population level analysis of routinely collected healthcare data . Clin\n",
      "------------------------------------------------\n",
      "0.159807300016259\n",
      "Title:  A high efficient hospital emergency responsive mode is the key of successful treatment of 100 COVID-19 patients in Zhuhai\n",
      "Abstract:  Since December 2019, Coronavirus Disease 2019 (COVID-19) emerged in Wuhan city and rapidly spread throughout China. The mortality of novel coronavirus pneumonia (NCP) in severe and critical cases is very high. Facing this kind of public health emergency, high efficient administrative emergency responsive mode in designated hospital is needed. All rights reserved. No reuse allowed without permission. author/funder, who has granted medRxiv a license to display the preprint in perpetuity.\n",
      "------------------------------------------------\n",
      "0.1624502994964714\n",
      "Title:  Journal Pre-proof Covid-19 pandemic and the skin -What should dermatologists know? Covid-19 pandemic and the skin -What should dermatologists know?\n",
      "Abstract:  Journal Pre-proof J o u r n a l P r e -p r o o f 2 Running title: COVID-19 and the skin Conflict of interests: none Funding sources: none Acknowledgements: none Journal Pre-proof J o u r n a l P r e -p r o o f 3 Abstract The World has changed dramatically since the COVID-19 pandemic began. Together with our social, occupational, and personal life, the new corona virus poses novel challenges for all physicians, including dermatologists. Despite the virus not being dermatotropic, several skin conditions have emerged, mainly as a result of prolonged contact to personal protective equipment and excessive personal hygiene. Pressure injury, contact dermatitis, itch, pressure urticaria, and exacerbation of pre-existing skin diseases, including seborrheic dermatitis and acne, have been described. We have focused on the dermatologic aspects of COVID-19 infection, so that dermatologist may be aware of the skin complications and the preventive measures to be taken in the COVID-19 pandemic. Abbreviations: healthcare workers -HCWs personal protective equipment -PPE Journal Pre-proof J o u r n a l P r e -p r o o f identified as the most common entry for the infection, this includes the conjunctiva with the otic canal having the lowest risk of transmission (4); therefore, specific skin changes due to Covid-19 infection have not been described, and one could expect iatrogenic secondary involvement of the skin. Journal Pre-proof J o u r n a l P r e -p r o o f 5 Because diseases with epidermal barrier interruption could enhance the virus acquisition through indirect contact (5), dermatology patients might be at an increased risk for developing the infection. This suggests that dermatology departments and private offices should develop appropriate preventative measures. (5). Use of a sanitary mask itself may not be sufficient protection from the virus transmission, so that goggles should be used to decrease the risk of conjunctival contamination. COVID-19 has a relatively low-resistance to disinfectants. As a result, a variety of regimens have been proven effective, ranging from 75% ethanol, peracetic acid, chlorine, and UV disinfection to a hot water bath at 56°C(132.8°F) for 30 minutes (4). Another important practical concern is the care for patients with autoimmune and chronic inflammatory disorders, such as psoriasis, atopic dermatitis, lupus, scleroderma, and hidradenitis suppurativa, which may require immune-suppressive therapy. It is not clear whether the administration of the biologics should be delayed. The skin complications in COVID-19 infection are mainly due to the hyper-hydration effect of PPE, friction, epidermal barrier breakdown, and contact reactions, all of which may aggravate an existing skin disease. The dermatologic manifestations are far different from those recorded during the Influenza Epidemic of 1918-1919 (6). Erythema, papules, maceration, and scaling are the most commonly reported skin changes due to extended wear of PPE (6) (figure 1). Symptoms have included burning, itching, and stinging. Such findings have been attributed to the use of PPE in 97.0% of 542 frontline healthcare workers (HCWs). The most commonly affected skin sites were the nasal bridge (83% due to the use of protective goggles but not the Journal Pre-proof\n",
      "------------------------------------------------\n",
      "0.1740325248538191\n",
      "Title:  What we know so far: COVID-19 current clinical knowledge and research\n",
      "Abstract:  In December 2019, health authorities in Wuhan, China, identifi ed a cluster of pneumonia cases of unknown aetiology linked to the city's South China Seafood Market. Subsequent investigations revealed a novel coronavirus, SARS-CoV-2, as the causative agent now at the heart of a major outbreak. The rising case numbers have been accompanied by unprecedented public health action, including the wholesale isolation of Wuhan. Alongside this has been a robust scientifi c response, including early publication of the pathogen genome, and rapid development of highly specifi c diagnostics. This article will review the new knowledge of SARS-CoV-2 COVID-19 acute respiratory disease, and summarise its clinical features.\n",
      "------------------------------------------------\n",
      "0.1761241759555831\n",
      "Title:  Severe acute respiratory syndrome (SARS) in intensive care units (ICUs): limiting the risk to healthcare workers\n",
      "Abstract:  The global epidemic of severe acute respiratory syndrome (SARS) during the first half of 2003 resulted in over 8000 cases with more than 800 deaths. Many of those who eventually died, did so in the critical (intensive) care units of various hospitals around the world, and many secondary cases of SARS arose in healthcare workers looking after such patients in these units. Research on SARS coronavirus (SARS CoV) demonstrated that this virus belongs to the same family of viruses, the Coronaviridae that causes the common cold, with some important differences. Properties of this virus have been discovered which can be used to develop important infection control policies within hospitals to limit the number of secondary cases. These properties include environmental survival, transmissibility, viral load in various organs and fluids and periods of symptomatic illness during which infectivity is greatest. Various barrier methods were used throughout the epidemic to protect healthcare workers from SARS, with varying degrees of success. Treatment of SARS patients has mainly involved steroid therapy, with or without ribavirin, but there is no consensus on the best treatment protocol, as yet. This review focuses on the implications of SARS for healthcare workers and patients on critical care units.\n"
     ]
    }
   ],
   "source": [
    "indices, distances = top_k_similar(paper_topic_dist, task1_topic_dist, \n",
    "                                   return_distances=True, k=5, \n",
    "                                   metric=jensenshannon, only_covid=True)\n",
    "display_closest_papers(indices, distances)"
   ]
  },
  {
   "cell_type": "markdown",
   "metadata": {},
   "source": [
    "Our hyphotesis for the relatively poor performance of this approach, is that the subtasks are **too diverse**. As shown on the plot below, the joint topic distribution of all subtasks has 3 topics with a relatively high probability. Because of this, the matched papers are also generic and span **multiple topics**."
   ]
  },
  {
   "cell_type": "code",
   "execution_count": 15,
   "metadata": {},
   "outputs": [
    {
     "data": {
      "image/png": "[encoded data removed]",
      "text/plain": [
       "<Figure size 576x720 with 1 Axes>"
      ]
     },
     "metadata": {
      "needs_background": "light"
     },
     "output_type": "display_data"
    }
   ],
   "source": [
    "def plot_topic_dist(topic_dist: np.ndarray, title='Topic distribution'):\n",
    "    n_topics = topic_dist.shape[0]\n",
    "    \n",
    "    fig, ax = plt.subplots()\n",
    "    fig.set_figheight(10)\n",
    "    fig.set_figwidth(8)\n",
    "    ax.barh(np.arange(n_topics), topic_dist, align='center')\n",
    "    ax.set_yticks(np.arange(n_topics))\n",
    "    ax.set_yticklabels([\"Topic #{}\".format(i + 1) for i in range(n_topics)])\n",
    "    ax.invert_yaxis()  # labels read top-to-bottom\n",
    "\n",
    "    ax.set_xlabel('Topic probability')\n",
    "    ax.set_title(title)\n",
    "    plt.show()\n",
    "\n",
    "plot_topic_dist(task1_topic_dist, title='Task 1 (all subtasks) topic distribution')"
   ]
  },
  {
   "cell_type": "markdown",
   "metadata": {},
   "source": [
    "### Task 1: Querying subtasks separately\n",
    "This method obtains much more relevant results. \n",
    "#### Subtask: Prevalence of asymptomatic shedding and transmission particularly children.\n",
    "All of the retrieved papers discuss transmittion of the coronavirus, although we couldn't find a focus on asymptomatic transmission specifically. \"*Seroepidemiology of Human Bocavirus Infection in Jamaica*\" discussed transmission among children in particular."
   ]
  },
  {
   "cell_type": "code",
   "execution_count": 11,
   "metadata": {},
   "outputs": [
    {
     "data": {
      "text/plain": [
       "array([0.0111145 , 0.71456275, 0.01111416, 0.01111266, 0.01111225,\n",
       "       0.01111195, 0.01111239, 0.01111523, 0.196532  , 0.01111212])"
      ]
     },
     "execution_count": 11,
     "metadata": {},
     "output_type": "execute_result"
    }
   ],
   "source": [
    "question = \"Prevalence of asymptomatic shedding and transmission particularly children.\"\n",
    "question_counts = vectorizer.transform([question])[0]\n",
    "question_topic_dist = lda.transform(question_counts.reshape(1, -1))[0]\n",
    "question_topic_dist"
   ]
  },
  {
   "cell_type": "code",
   "execution_count": 12,
   "metadata": {
    "scrolled": true
   },
   "outputs": [
    {
     "name": "stdout",
     "output_type": "stream",
     "text": [
      "------------------------------------------------\n",
      "0.056111108224192394\n",
      "Title:  Environmental investigation of respiratory pathogens during the Hajj 2016 and 2018\n",
      "Abstract:  Background: Respiratory tract infections are common in the context of the Hajj pilgrimage and respiratory pathogens can be transmitted via contact with contaminated surfaces. We sampled surfaces during the Hajj to detect the presence of respiratory bacteria and viruses. Methods: Frequently touched surfaces at Mecca, Mina, Arafat and Medina were sampled. The common respiratory pathogens were tested by qPCR. Results: 70/142 (49.3%) environmental samples collected were positive for at least one respiratory pathogen. Among the positive samples, Klebsiella pneumoniae was the bacterium most frequently tested positive (57.1%), followed by Streptococcus pneumoniae (12.9%), Staphylococcus aureus (10.0%) and Haemophilus influenzae (7.1%). 32.9% positive samples tested positive for rhinovirus and 1.4% for coronavirus. Surfaces with the highest rates of positive samples were kitchen tables (100%), water fountain faucet (73.3%) and edge of water coolers lid (84.6%). Samples collected in Mina were the most frequently contaminated with 68.8% being positive for at least one pathogen and 18.8% positive for a combination of multiple pathogens. Conclusion: These preliminary results indicate that respiratory pathogens are common in environmental surfaces from areas frequented by Hajj pilgrims. Further larger-scale studies are needed to better assess the possible role of environmental respiratory pathogens in respiratory infections in Hajj pilgrims.\n",
      "------------------------------------------------\n",
      "0.07825806481096009\n",
      "Title:  Seroepidemiology of Human Bocavirus Infection in Jamaica\n",
      "Abstract:  Background: Human bocavirus (HBoV) is a newly identified human parvovirus. HBoV is associated with upper and lower respiratory tract infections and gastroenteritis in children. Little is known about the seroepidemiology of HBoV in populations in the Caribbean. Methods: In a cross-sectional study conducted at the University Hospital of the West Indies in Kingston, Jamaica, 287 blood samples were collected from pediatric patients and tested for the presence of HBoV-specific antibody using a virus-likeparticle based enzyme-linked immunosorbent assay (ELISA). Results: HBoV-specific antibodies were found to be present in 220/287 (76.7%) of samples collected from the pediatric population. Seroprevalence of HBoV was highest in those $2 years old. The seroepidemiological profile suggests that most children are exposed to HBoV during the first two years of life in Jamaica. Conclusion: HBoV infection is common in children in Jamaica. HBoV seroprevalence rates in the Caribbean are similar to those previously reported in other areas of the world.\n",
      "------------------------------------------------\n",
      "0.08618059318481165\n",
      "Title:  Etiology of Influenza-Like Illnesses from Sentinel Network Practitioners in Réunion Island, 2011-2012\n",
      "Abstract:  In Ré union Island, despite an influenza surveillance established since 1996 by the sentinel general practitioner's network, little is known about the etiology of Influenza like-illness (ILI) that differs from influenza viruses in a tropical area. We set up a retrospective study using nasal swabs collected by sentinel GPs from ILI patients in 2011 and 2012. A total of 250 swabs were randomly selected and analyzed by multiplex reverse transcriptase polymerase chain reaction (RT-PCR) including research of 18 viruses and 4 bacteria. We detected respiratory viruses in 169/222 (76.1%) samples, mostly rhinovirus (23.4%), influenza A virus (21.2%), influenza B virus (12.6%), coronavirus (4.9%) and Human metapneumovirus (3.6%). Nine swabs (5.3% of positive swabs) revealed co-infections with two viruses identified, among which six concerned co-infections with influenza viruses. We observed important seasonal differences, with circulation of Human Metapneumoviruses, RSV A and B and coronavirus only during summer; whereas parainfluenza viruses were identified only during winter. In conclusion, this study highlights a substantial circulation of multiple respiratory pathogens in Ré union Island throughout the year. It shows that ILI are not only attributable to influenza and underlines the need for biological surveillance. As the use of multiplex RT-PCR showed its efficacy, it is now used routinely in the surveillance of ILI.\n",
      "------------------------------------------------\n",
      "0.0878122424551236\n",
      "Title:  Human coronavirus circulation in the United States 2014-2017 ☆\n",
      "Abstract:  Background: Human coronaviruses (HCoVs) -OC43, -229E, -NL63 and -HKU1 cause upper and lower respiratory tract infections. HCoVs are globally distributed and the predominant species may vary by region or year. Prior studies have shown seasonal patterns of HCoV species and annual variation in species prevalence but national circulation patterns in the US have not yet been described. Objectives: To describe circulation patterns of HCoVs -OC43, -229E, -NL63 and -HKU1 in the US. Study design: We reviewed real-time reverse transcription polymerase chain reaction (rRT-PCR) test results for HCoV-OC43, -229E\n",
      "------------------------------------------------\n",
      "0.09520922077246333\n",
      "Title:  Clinical Infectious Diseases Continuous Invasion by Respiratory Viruses Observed in Rural Households During a Respiratory Syncytial Virus Seasonal Outbreak in Coastal Kenya\n",
      "Abstract:  Households are high-intensity close-contact environments favorable for transmission of respiratory viruses, yet little is known for low-income settings. Methods. Active surveillance was completed on 47 households in rural coastal Kenya over 6 months during a respiratory syncytial virus (RSV) season. Nasopharyngeal swabs (NPSs) were taken from 483 household members twice weekly irrespective of symptoms. Using molecular diagnostics, NPSs from 6 households were screened for 15 respiratory viruses and the remainder of households only for the most frequent viruses observed: rhinovirus (RV), human coronavirus (HCoV; comprising strains 229E, OC43, and NL63), adenovirus (AdV), and RSV (A and B). Results. Of 16 928 NPSs tested for the common viruses, 4259 (25.2%) were positive for ≥1 target; 596 (13.8%) had coinfections. Detection frequencies were 10.5% RV (1780), 7.5% HCoV (1274), 7.3% AdV (1232), and 3.2% RSV (537). On average, each household and individual had 6 and 3 different viruses detected over the study period, respectively. Rhinovirus and HCoV were detected in all the 47 households while AdV and RSV were detected in 45 (95.7%) and 40 (85.1%) households, respectively. The individual risk of infection over the 6-month period was 93.4%, 80.1%, 71.6%, 61.5%, and 37.1% for any virus, RV, HCoV, AdV, and RSV, respectively. NPSs collected during symptomatic days and from younger age groups had higher prevalence of virus detection relative to respective counterparts. RSV was underrepresented in households relative to hospital admission data. Conclusions. In this household setting, respiratory virus infections and associated illness are ubiquitous. Future studies should address the health and economic implications of these observations.\n"
     ]
    }
   ],
   "source": [
    "indices, distances = top_k_similar(paper_topic_dist, question_topic_dist, \n",
    "                                   return_distances=True, k=5, metric=jensenshannon)\n",
    "display_closest_papers(indices, distances)"
   ]
  },
  {
   "cell_type": "markdown",
   "metadata": {},
   "source": [
    "#### Subtask: Disease models including animal models for infection disease and transmission\n",
    "According to us, the most relevant responses so far. All of the paper matches discuss spreading of COVID-related viruses, and the majority of them use animal models."
   ]
  },
  {
   "cell_type": "code",
   "execution_count": 19,
   "metadata": {},
   "outputs": [
    {
     "data": {
      "text/plain": [
       "array([0.00909392, 0.00909167, 0.00909434, 0.00909145, 0.009093  ,\n",
       "       0.00909176, 0.00909166, 0.51034465, 0.41691448, 0.00909305])"
      ]
     },
     "execution_count": 19,
     "metadata": {},
     "output_type": "execute_result"
    }
   ],
   "source": [
    "question = \"Disease models including animal models for infection disease and transmission.\"\n",
    "question_counts = vectorizer.transform([question])[0]\n",
    "question_topic_dist = lda.transform(question_counts.reshape(1, -1))[0]\n",
    "question_topic_dist"
   ]
  },
  {
   "cell_type": "code",
   "execution_count": 20,
   "metadata": {
    "scrolled": true
   },
   "outputs": [
    {
     "name": "stdout",
     "output_type": "stream",
     "text": [
      "------------------------------------------------\n",
      "0.043891657144334455\n",
      "Title:  Public health concerns of highly pathogenic avian influenza H5N1 endemicity in Africa\n",
      "Abstract:  Highly pathogenic avian influenza virus (HPAIV) H5N1 was first officially reported in Africa in 2006; thereafter this virus has spread rapidly from Nigeria to 11 other African countries. This study was aimed at utilizing data from confirmed laboratory reports to carry out a qualitative evaluation of the factors responsible for HPAI H5N1 persistence in Africa and the public health implications; and to suggest appropriate control measures. Relevant publications were sought from data banks and repositories of FAO, OIE, WHO, and Google scholars. Substantiated data on HPAI H5N1 outbreaks in poultry in Africa and in humans across the world were mined. HPAI H5N1 affects poultry and human populations, with Egypt having highest human cases (346) globally. Nigeria had a reinfection from 2014 to 2015, with outbreaks in Côte d'Ivoire, Ghana, Niger, Nigeria, and Burkina Faso throughout 2016 unabated. The persistence of this virus in Africa is attributed to the survivability of HPAIV, ability to evolve other subtypes through genetic reassortment, poor biosecurity compliance at the live bird markets and poultry farms, husbandry methods and multispecies livestock farming, poultry vaccinations, and continuous shedding of HPAIV, transboundary transmission of HPAIV through poultry trades; and transcontinental migratory birds. There is, therefore, the need for African nations to realistically reassess their status, through regular surveillance and be transparent with HPAI H5N1 outbreak data. Also, it is important to have an understanding of HPAIV migration dynamics which will be helpful in epidemiological modeling, disease prevention, control and eradication measures.\n",
      "------------------------------------------------\n",
      "0.04760208688677255\n",
      "Title:  \n",
      "Abstract:  In 1997, the avian influenza A subtype H5N1 that caused big outbreaks of fowl pest in mass poultry farming had emerged in Hong Kong. Its spread throughout Eurasia had given rise to concerns in terms of the possible imminence of the next human influenza pandemic. In this article, epidemiological and virological arguments supporting or declining this fear are outlined and discussed with regard to viral infectivity and pathogenicity.\n",
      "------------------------------------------------\n",
      "0.0485886772619721\n",
      "Title:  Influenza A H5N1 and H7N9 in China: A spatial risk analysis\n",
      "Abstract:  Zoonotic avian influenza poses a major risk to China, and other parts of the world. H5N1 has remained endemic in China and globally for nearly two decades, and in 2013, a novel zoonotic influenza A subtype H7N9 emerged in China. This study aimed to improve upon our current understanding of the spreading mechanisms of H7N9 and H5N1 by generating spatial risk profiles for each of the two virus subtypes across mainland China. Citation: Bui CM, Gardner L, MacIntyre R, Sarkar S (2017) Influenza A H5N1 and H7N9 in China: A spatial risk analysis. PLoS ONE 12(4): e0174980.\n",
      "------------------------------------------------\n",
      "0.052449393547116835\n",
      "Title:  Potential for Introduction of Bat-Borne Zoonotic Viruses into the EU: A Review\n",
      "Abstract:  Bat-borne viruses can pose a serious threat to human health, with examples including Nipah virus (NiV) in Bangladesh and Malaysia, and Marburg virus (MARV) in Africa. To date, significant human outbreaks of such viruses have not been reported in the European Union (EU). However, EU countries have strong historical links with many of the countries where NiV and MARV are present and a corresponding high volume of commercial trade and human travel, which poses a potential risk of introduction of these viruses into the EU. In assessing the risks of introduction of these bat-borne zoonotic viruses to the EU, it is important to consider the location and range of bat species known to be susceptible to infection, together with the virus prevalence, seasonality of viral pulses, duration of infection and titre of virus in different bat tissues. In this paper, we review the current scientific knowledge of all these factors, in relation to the introduction of NiV and MARV into the EU.\n",
      "------------------------------------------------\n",
      "0.0530066994753044\n",
      "Title:  Mechanisms for lyssavirus persistence in non-synanthropic bats in Europe: insights from a modeling study\n",
      "Abstract:  Bats are natural reservoirs of the largest proportion of viral zoonoses among mammals, thus understanding the conditions for pathogen persistence in bats is essential to reduce human risk. Miniopterus schreibersii bat species in Catalonia. We find that persistence relies on host spatial structure through the migratory nature of M. schreibersii, on cross-species mixing with M. myotis, and on survival of infected animals followed by temporary immunity. The virus would not persist in the single colony of M. myotis. Our study provides for the first time epidemiological estimates for EBLV-1 progression in M. schreibersii. Our approach can be readily adapted to other zoonoses of public health concern where long-range migration and habitat sharing may play an important role.\n"
     ]
    }
   ],
   "source": [
    "indices, distances = top_k_similar(paper_topic_dist, question_topic_dist, \n",
    "                                   return_distances=True, k=5, metric=jensenshannon)\n",
    "display_closest_papers(indices, distances)"
   ]
  },
  {
   "cell_type": "markdown",
   "metadata": {},
   "source": [
    "#### Subtask: Physical science of the coronavirus charge distribution, adhesion to hydrophilic phobic surfaces, environmental survival to inform decontamination efforts for affected areas and provide information about viral shedding"
   ]
  },
  {
   "cell_type": "code",
   "execution_count": 16,
   "metadata": {},
   "outputs": [
    {
     "data": {
      "text/plain": [
       "array([0.00370517, 0.00370454, 0.00370539, 0.16769765, 0.05836264,\n",
       "       0.00370461, 0.14157344, 0.15422247, 0.45961822, 0.00370586])"
      ]
     },
     "execution_count": 16,
     "metadata": {},
     "output_type": "execute_result"
    }
   ],
   "source": [
    "question = \"Physical science of the coronavirus charge distribution adhesion to hydrophilic phobic surfaces environmental survival to inform decontamination efforts for affected areas and provide information about viral shedding\"\n",
    "question_counts = vectorizer.transform([question])[0]\n",
    "question_topic_dist = lda.transform(question_counts.reshape(1, -1))[0]\n",
    "question_topic_dist"
   ]
  },
  {
   "cell_type": "code",
   "execution_count": 17,
   "metadata": {},
   "outputs": [
    {
     "name": "stdout",
     "output_type": "stream",
     "text": [
      "------------------------------------------------\n",
      "0.16222901804263626\n",
      "Title:  Physica A Coupled effects of local movement and global interaction on contagion\n",
      "Abstract:  • Segregated spatial domain and individual-based linkage are incorporated into SIS model. • Activating a small number of individual-based linkage between different spatial domains can prompt the outbreak of epidemic globally. • Narrowing segregated spatial domain and reducing mobility are conducive to suppression of infectious disease. a b s t r a c t By incorporating segregated spatial domain and individual-based linkage into the SIS (susceptible-infected-susceptible) model, we propose a generalized epidemic model which can change from the territorial epidemic model to the networked epidemic model. The role of the individual-based linkage between different spatial domains is investigated. As we adjust the timescale parameter τ from 0 to unity, which represents the degree of activation of the individual-based linkage, three regions are found. Within the region of 0 < τ < 0.02, the epidemic is determined by local movement and is sensitive to the timescale τ . Within the region of 0.02 < τ < 0.5, the epidemic is insensitive to the timescale τ . Within the region of 0.5 < τ < 1, the outbreak of the epidemic is determined by the structure of the individual-based linkage. As we keep an eye on the first region, the role of activating the individual-based linkage in the present model is similar to the role of the shortcuts in the two-dimensional small world network. Only activating a small number of the individualbased linkage can prompt the outbreak of the epidemic globally. The role of narrowing segregated spatial domain and reducing mobility in epidemic control is checked. These two measures are found to be conducive to curbing the spread of infectious disease only when the global interaction is suppressed. A log-log relation between the change in the number of infected individuals and the timescale τ is found. By calculating the epidemic threshold * L.-X. Zhong et al. / Physica A 436 (2015) 482-491 483 and the mean first encounter time, we heuristically analyze the microscopic characteristics of the propagation of the epidemic in the present model.\n",
      "------------------------------------------------\n",
      "0.16877099075567545\n",
      "Title:  Assessing the role of long-distance translocation and spatial heterogeneity in the raccoon rabies epidemic in Connecticut\n",
      "Abstract:  Spatial heterogeneity and long-distance translocation (LDT) play important roles in the spatiotemporal dynamics and management of emerging infectious diseases and invasive species. We assessed the influence of LDT events on the invasive spread of raccoon rabies through Connecticut. We identified several putative LDT events, and developed a network-model to evaluate whether they became new foci for epidemic spread. LDT was fairly common, but many of the LDTs were isolated events that did not spread. Two putative LDT events did appear to become nascent foci that affected the epidemic in surrounding townships. In evaluating the role of LDT, we simultaneously revisited the problem of spatial heterogeneity. The spread of raccoon rabies is associated with forest cover-rabies moves up to three-times slower through the most heavily forested townships compared with those with less forestation. Forestation also modified the effect of rivers. In the best overall model, rabies did not cross the river separating townships that were heavily forested, and the spread slowed substantially between townships that were lightly forested. Our results suggest that spatial heterogeneity can be used to enhance the effects of rabies control by focusing vaccine bait distribution along rivers in lightly forested areas. LDT events are a concern, but this analysis suggests that at a local scale they can be isolated and managed. Published by Elsevier B.V.\n",
      "------------------------------------------------\n",
      "0.1724668809897582\n",
      "Title:  Minimizing the threat of pandemic emergence from avian influenza in poultry systems\n",
      "Abstract:  Background: Live-animal markets are a culturally important feature of meat distribution chains in many populations, yet they provide an opportunity for the maintenance and transmission of potentially emergent zoonotic pathogens. The ongoing human outbreak of avian H7N9 in China highlights the need for increased surveillance and control in these live-bird markets (LBMs). Discussion: Closure of retail markets in affected areas rapidly decreased human cases to rare, sporadic occurrence, but little attention has been paid thus far to the role of upstream elements of the poultry distribution chain such as wholesale markets. This could partly explain why transmission in poultry populations has not been eliminated more broadly. We present surveillance data from both wholesale live-bird markets (wLBMs) and rLBMs in Shantou, China (from 2004China (from -2006, and call on disease-dynamic theory to illustrate why closing rLBMs has only minor effects on the overall volume of transmission. We show that the length of time birds stay in rLBMs can severely limit transmission there, but that the system-wide effect may be reduced substantially by high levels of transmission upstream of retail markets. Summary: Management plans that minimize transmission throughout the entire poultry supply chain are essential for minimizing exposure to the public. These include reducing stay-time of birds in markets to 1 day, standardizing poultry supply chains to limit transmission in pre-retail settings, and monitoring strains with epidemiological traits that pose a high risk of emergence. These actions will further limit human exposure to extant viruses and reduce the likelihood of the emergence of novel strains by decreasing the overall volume of transmission.\n",
      "------------------------------------------------\n",
      "0.18134657226360656\n",
      "Title:  Anthropogenic factors and the risk of highly pathogenic avian influenza H5N1: prospects from a spatial-based model\n",
      "Abstract:  Beginning in 2003, highly pathogenic avian influenza (HPAI) H5N1 virus spread across Southeast Asia, causing unprecedented epidemics. Thailand was massively infected in 2004 and 2005 and continues today to experience sporadic outbreaks. While research findings suggest that the spread of HPAI H5N1 is influenced primarily by trade patterns, identifying the anthropogenic risk factors involved remains a challenge. In this study, we investigated which anthropogenic factors played a role in the risk of HPAI in Thailand using outbreak data from the ''second wave'' of the epidemic (3 July 2004 to 5 May 2005) in the country. We first performed a spatial analysis of the relative risk of HPAI H5N1 at the subdistrict level based on a hierarchical Bayesian model. We observed a strong spatial heterogeneity of the relative risk. We then tested a set of potential risk factors in a multivariable linear model. The results confirmed the role of freegrazing ducks and rice-cropping intensity but showed a weak association with fighting cock density. The results also revealed a set of anthropogenic factors significantly linked with the risk of HPAI. High risk was associated strongly with densely populated areas, short distances to a highway junction, and short distances to large cities. These findings highlight a new explanatory pattern for the risk of HPAI and indicate that, in addition to agro-environmental factors, anthropogenic factors play an important role in the spread of H5N1. To limit the spread of future outbreaks, efforts to control the movement of poultry products must be sustained. avian influenza / epidemiology / poultry farming / spatial analysis / Thailand\n",
      "------------------------------------------------\n",
      "0.18687539195004516\n",
      "Title:  Abundance, survival, recruitment and effectiveness of sterilization of free-roaming dogs: A capture and recapture study in Brazil\n",
      "Abstract:  The existence of free-roaming dogs raises important issues in animal welfare and in public health. A proper understanding of these animals' ecology is useful as a necessary input to plan strategies to control these populations. The present study addresses the population dynamics and the effectiveness of the sterilization of unrestricted dogs using capture and recapture procedures suitable for open animal populations. Every two months, over a period of 14 months, we captured, tagged, released and recaptured dogs in two regions in a city in the southeast region of Brazil. In one of these regions the animals were also sterilized. Both regions had similar social, environmental and demographic features. We estimated the presence of 148 females and 227 males during the period of study. The average dog:man ratio was 1 dog for each 42 and 51 human beings, in the areas without and with sterilization, respectively. The animal population size increased in both regions, due mainly to the abandonment of domestic dogs. Mortality rate decreased throughout the study period. Survival probabilities did not differ between genders, but males entered the population in higher numbers. There were no differences in abundance, survival and recruitment between the regions, indicating that sterilization did not affect the population dynamics. Our findings indicate that the observed animal dynamics were influenced by density-independent factors, and that sterilization might not be a viable and effective strategy in regions where availability of resources is low and animal abandonment rates are high. Furthermore, the high demographic turnover rates observed render the canine free-roaming population younger, thus more susceptible to diseases, especially to rabies and leishmaniasis. We conclude by stressing the importance of implementing educational programs to promote responsible animal ownership and effective strategies against abandonment practices. The study took place in the municipality of Divinópolis, Minas Gerais, Brazil, the largest in the Central-West region of the state, with 228,643 inhabitants and a literacy rate of 94.7% (Brazilian Institute of Geography and Statistics-IBGE). Regular public health measures involving dogs and implemented by the public services included sterilization of pet animals, when requested by owners, the capture and euthanasia of roaming dogs considered aggressive or diseased, and the capture of females along with their offspring for potential adoption by the local residents. Dogs not adopted were returned to the streets after the lactation period. Additional activities recommended by the Brazilian program on visceral leishmaniasis control, such as the culling of Leishmania-infected dogs, were also carried out on a regular basis [31, 32] , as well as vaccination campaigns against rabies [33] . We selected two similar geographic areas (Fig 1) : A (control) and B (intervention), with 3670 and 3900 inhabitants, respectively, according to the city hall registry. Both areas comprised four neighborhoods each and had similar profiles regarding size, household numbers and socioeconomic conditions. Data collection and analysis complied with the ethical principles in animal experimentation as recommended by the Brazilian College of Animal Experimentation (COBEA). This project has Fig 1. Study setting: a. Brazil, the State of Minas Gerais appears highlighted; b. the State of Minas Gerais, the city of Divinópolis appears highlighted; c. Divinópolis, the two areas of capture appear highlighted (area Acontrol-in red; area B-intervention-in green); River in blue; Highway in orange.\n"
     ]
    }
   ],
   "source": [
    "indices, distances = top_k_similar(paper_topic_dist, question_topic_dist, \n",
    "                                   return_distances=True, k=5, metric=jensenshannon)\n",
    "display_closest_papers(indices, distances)"
   ]
  }
 ],
 "metadata": {
  "kernelspec": {
   "display_name": "Python 3",
   "language": "python",
   "name": "python3"
  },
  "language_info": {
   "codemirror_mode": {
    "name": "ipython",
    "version": 3
   },
   "file_extension": ".py",
   "mimetype": "text/x-python",
   "name": "python",
   "nbconvert_exporter": "python",
   "pygments_lexer": "ipython3",
   "version": "3.8.1"
  }
 },
 "nbformat": 4,
 "nbformat_minor": 4
}
