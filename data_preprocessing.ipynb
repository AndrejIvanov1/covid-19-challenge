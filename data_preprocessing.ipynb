{
 "cells": [
  {
   "cell_type": "code",
   "execution_count": 7,
   "metadata": {},
   "outputs": [],
   "source": [
    "import os\n",
    "import json\n",
    "\n",
    "import numpy as np\n",
    "import pandas as pd\n",
    "import matplotlib.pyplot as plt\n",
    "from tqdm.notebook import tqdm"
   ]
  },
  {
   "cell_type": "code",
   "execution_count": 41,
   "metadata": {},
   "outputs": [],
   "source": [
    "data_dirs = {\n",
    "    \"biorxiv\": \"data/biorxiv_medrxiv/biorxiv_medrxiv\",\n",
    "    \"comm_use_subset\": \"data/comm_use_subset/comm_use_subset\",\n",
    "    \"custom_license\": \"data/custom_license/custom_license\",\n",
    "    \"noncomm_use_subset\": \"data/noncomm_use_subset/noncomm_use_subset\""
   ]
  },
  {
   "cell_type": "code",
   "execution_count": null,
   "metadata": {},
   "outputs": [
    {
     "name": "stdout",
     "output_type": "stream",
     "text": [
      "1053 papers from source biorxiv...\n"
     ]
    },
    {
     "data": {
      "application/vnd.jupyter.widget-view+json": {
       "model_id": "c79f88d306ef4fa2b4eeedbdf93b09f9",
       "version_major": 2,
       "version_minor": 0
      },
      "text/plain": [
       "HBox(children=(FloatProgress(value=0.0, max=1053.0), HTML(value='')))"
      ]
     },
     "metadata": {},
     "output_type": "display_data"
    },
    {
     "name": "stdout",
     "output_type": "stream",
     "text": [
      "9315 papers from source comm_use_subset...\n"
     ]
    },
    {
     "data": {
      "application/vnd.jupyter.widget-view+json": {
       "model_id": "9d817ba00218476f81a075fcfd7d888d",
       "version_major": 2,
       "version_minor": 0
      },
      "text/plain": [
       "HBox(children=(FloatProgress(value=0.0, max=9315.0), HTML(value='')))"
      ]
     },
     "metadata": {},
     "output_type": "display_data"
    },
    {
     "name": "stdout",
     "output_type": "stream",
     "text": [
      "20657 papers from source custom_license...\n"
     ]
    },
    {
     "data": {
      "application/vnd.jupyter.widget-view+json": {
       "model_id": "46c9760523ae4e199295e31d35adc526",
       "version_major": 2,
       "version_minor": 0
      },
      "text/plain": [
       "HBox(children=(FloatProgress(value=0.0, max=20657.0), HTML(value='')))"
      ]
     },
     "metadata": {},
     "output_type": "display_data"
    }
   ],
   "source": [
    "def extract_abstract(abstract_parts: list) -> str:\n",
    "    \"\"\"\n",
    "        Input:\n",
    "            abstract_parts: a list, the 'abstract' key of the paper's json.\n",
    "        Output:\n",
    "            The full text of the abstract as a string\n",
    "        \n",
    "        The abstract section in the paper's json gives us a list of the ordered parts of the text from the abstract.\n",
    "        This method combines the divided abstract text into one string for the whole abstract.\n",
    "    \"\"\"\n",
    "    \n",
    "    if abstract_parts == []: # some papers are missing abstracts\n",
    "        full_abstract_text = \"\"\n",
    "    else:\n",
    "        full_abstract_text = ' '.join([abstract_part['text'] for abstract_part in abstract_parts])\n",
    "    \n",
    "    return full_abstract_text\n",
    "\n",
    "def extract_body(body_parts: list) -> str:\n",
    "    \"\"\"\n",
    "        Input:\n",
    "            body_parts: a list, the 'body_text' key of the paper's json.\n",
    "        Output:\n",
    "            The full text of the body as a string\n",
    "        \n",
    "        The body section in the paper's json gives us a list of the ordered parts of the text from the body.\n",
    "        This method combines the divided body text into one string for the whole body text.\n",
    "    \"\"\"\n",
    "    if body_parts == []:\n",
    "        full_body_text = \"\"\n",
    "    else:\n",
    "        full_body_text = ' '.join([body_part['text'] for body_part in body_parts])\n",
    "    \n",
    "    return full_body_text\n",
    "        \n",
    "def combine_all_text(save_to='data/all_text.json'):\n",
    "    \"\"\"\n",
    "        Combines the text data from all datasets into a single json object.\n",
    "        The structure of the json is:\n",
    "        {\n",
    "            \"paper_id\": {\n",
    "                \"title\": title of paper,\n",
    "                \"source: database it comes from,\n",
    "                \"abstract\": abstract of paper,\n",
    "                \"body\": full text of the body\n",
    "            }\n",
    "        }\n",
    "    \"\"\"\n",
    "    for source, data_dir in data_dirs.items():\n",
    "        filenames = os.listdir(data_dir)\n",
    "        print(\"{} papers from source {}...\".format(len(filenames), source))\n",
    "\n",
    "        filtered_json = {}\n",
    "        for i in tqdm(range(len(filenames))):\n",
    "            #if i == 5:\n",
    "               #break\n",
    "\n",
    "            with open(os.path.join(data_dir, filenames[i]), 'r') as f:\n",
    "                paper_json = json.load(f)\n",
    "\n",
    "            text_json = {\n",
    "                \"title\": paper_json['metadata']['title'],\n",
    "                \"source\": source,\n",
    "                \"abstract\": extract_abstract(paper_json['abstract']),\n",
    "                \"body\": extract_body(paper_json['body_text'])\n",
    "            }\n",
    "\n",
    "            paper_id = paper_json['paper_id']\n",
    "            filtered_json[paper_id] = text_json\n",
    "\n",
    "    with open(save_to, 'w') as f:\n",
    "        print(\"Saving json to {}\".format(save_to))\n",
    "        json.dump(filtered_json, f)\n",
    "        \n",
    "combine_all_text()"
   ]
  }
 ],
 "metadata": {
  "kernelspec": {
   "display_name": "Python 3",
   "language": "python",
   "name": "python3"
  },
  "language_info": {
   "codemirror_mode": {
    "name": "ipython",
    "version": 3
   },
   "file_extension": ".py",
   "mimetype": "text/x-python",
   "name": "python",
   "nbconvert_exporter": "python",
   "pygments_lexer": "ipython3",
   "version": "3.8.1"
  }
 },
 "nbformat": 4,
 "nbformat_minor": 4
}
